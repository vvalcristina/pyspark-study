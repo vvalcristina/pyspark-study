{
 "cells": [
  {
   "cell_type": "markdown",
   "metadata": {},
   "source": [
    "## Estudos PySpark\n",
    "\n",
    "Notebook dedicado ao estudo de PySpark, com datasets públicos de dados do Prouni 2018.\n",
    "\n",
    "Fonte : [Dataset Prouni 2018]( https://brasil.io/dataset/cursos-prouni/cursos/)"
   ]
  },
  {
   "cell_type": "markdown",
   "metadata": {},
   "source": [
    "**Imports**"
   ]
  },
  {
   "cell_type": "code",
   "execution_count": 1,
   "metadata": {},
   "outputs": [],
   "source": [
    "from pyspark.sql.functions import *\n",
    "from pyspark.sql import SparkSession\n",
    "from pyspark.sql.types import IntegerType\n",
    "from pyspark.sql.window import Window"
   ]
  },
  {
   "cell_type": "markdown",
   "metadata": {},
   "source": [
    "### SparkSession\n",
    "\n",
    "Sem o SparkSession, sua aplicação spark não consegue rodar. Cria o SparkContext e SparkConfig.\n",
    "\n",
    "**SparkContext**\n",
    "\n",
    "* É o principal ponto de entrada na funcionalidade do Spark e, portanto, o coração de qualquer aplicativo Spark. \n",
    "* Permite que o Spark Driver acesse o cluster por meio de seu Cluster Resource Manager e pode ser usado para criar RDDs, acumuladores e variáveis de transmissão no cluster. \n",
    "* O Spark Context também rastreia os executores em tempo real, enviando mensagens regulares de pulsação.\n",
    "* O Spark Context é criado pelo Spark Driver para cada aplicativo Spark quando é enviado pela primeira vez pelo usuário. Ele existe durante todo o tempo de vida do aplicativo Spark.\n",
    "* Para de funcionar depois que o aplicativo Spark é concluído. \n",
    "* Para cada JVM, apenas um Spark Context pode estar ativo."
   ]
  },
  {
   "cell_type": "code",
   "execution_count": 2,
   "metadata": {},
   "outputs": [],
   "source": [
    "spark = (SparkSession.builder \n",
    "        .master(\"local[*]\") \n",
    "        .appName(\"workshop_spark\")\n",
    "        .getOrCreate())"
   ]
  },
  {
   "cell_type": "markdown",
   "metadata": {},
   "source": [
    "### Spark UI\n",
    "\n",
    "O Apache Spark fornece um conjunto de interfaces de usuário da web (UIs) que você pode usar para monitorar o status e o consumo de recursos do cluster Spark."
   ]
  },
  {
   "cell_type": "code",
   "execution_count": 3,
   "metadata": {},
   "outputs": [
    {
     "data": {
      "text/html": [
       "\n",
       "            <div>\n",
       "                <p><b>SparkSession - in-memory</b></p>\n",
       "                \n",
       "        <div>\n",
       "            <p><b>SparkContext</b></p>\n",
       "\n",
       "            <p><a href=\"http://948951a2db92:4040\">Spark UI</a></p>\n",
       "\n",
       "            <dl>\n",
       "              <dt>Version</dt>\n",
       "                <dd><code>v3.0.0</code></dd>\n",
       "              <dt>Master</dt>\n",
       "                <dd><code>local[*]</code></dd>\n",
       "              <dt>AppName</dt>\n",
       "                <dd><code>workshop_spark</code></dd>\n",
       "            </dl>\n",
       "        </div>\n",
       "        \n",
       "            </div>\n",
       "        "
      ],
      "text/plain": [
       "<pyspark.sql.session.SparkSession at 0x7f7bfc0d4f40>"
      ]
     },
     "execution_count": 3,
     "metadata": {},
     "output_type": "execute_result"
    }
   ],
   "source": [
    "#Verificar a UI localhost:4040\n",
    "spark"
   ]
  },
  {
   "cell_type": "code",
   "execution_count": 4,
   "metadata": {},
   "outputs": [],
   "source": [
    "cursos_prouni = spark.read.option(\"header\", True).csv(\"../data/cursos-prouni.csv\")\n",
    "enderecos = spark.read.option(\"header\", True).csv(\"../data/enderecos-campi.csv\")"
   ]
  },
  {
   "cell_type": "markdown",
   "metadata": {},
   "source": [
    "### Conhecendo os dados \n",
    "\n",
    "**Cursos**"
   ]
  },
  {
   "cell_type": "code",
   "execution_count": 5,
   "metadata": {},
   "outputs": [
    {
     "data": {
      "text/html": [
       "<div>\n",
       "<style scoped>\n",
       "    .dataframe tbody tr th:only-of-type {\n",
       "        vertical-align: middle;\n",
       "    }\n",
       "\n",
       "    .dataframe tbody tr th {\n",
       "        vertical-align: top;\n",
       "    }\n",
       "\n",
       "    .dataframe thead th {\n",
       "        text-align: right;\n",
       "    }\n",
       "</style>\n",
       "<table border=\"1\" class=\"dataframe\">\n",
       "  <thead>\n",
       "    <tr style=\"text-align: right;\">\n",
       "      <th></th>\n",
       "      <th>grau</th>\n",
       "      <th>turno</th>\n",
       "      <th>mensalidade</th>\n",
       "      <th>bolsa_integral_cotas</th>\n",
       "      <th>bolsa_integral_ampla</th>\n",
       "      <th>bolsa_parcial_cotas</th>\n",
       "      <th>bolsa_parcial_ampla</th>\n",
       "      <th>curso_id</th>\n",
       "      <th>curso_busca</th>\n",
       "      <th>cidade_busca</th>\n",
       "      <th>uf_busca</th>\n",
       "      <th>cidade_filtro</th>\n",
       "      <th>universidade_nome</th>\n",
       "      <th>campus_nome</th>\n",
       "      <th>campus_id</th>\n",
       "      <th>nome</th>\n",
       "      <th>nota_integral_ampla</th>\n",
       "      <th>nota_integral_cotas</th>\n",
       "      <th>nota_parcial_ampla</th>\n",
       "      <th>nota_parcial_cotas</th>\n",
       "    </tr>\n",
       "  </thead>\n",
       "  <tbody>\n",
       "    <tr>\n",
       "      <th>0</th>\n",
       "      <td>Bacharelado</td>\n",
       "      <td>Integral</td>\n",
       "      <td>9999.99</td>\n",
       "      <td>15</td>\n",
       "      <td>14</td>\n",
       "      <td>None</td>\n",
       "      <td>None</td>\n",
       "      <td>706710394154</td>\n",
       "      <td>Medicina</td>\n",
       "      <td>Campo Grande</td>\n",
       "      <td>MS</td>\n",
       "      <td>NTAwMjAwNDAyNzA0</td>\n",
       "      <td>Universidade Anhanguera - UNIDERP</td>\n",
       "      <td>CAMPO GRANDE - SEDE - Miguel Couto</td>\n",
       "      <td>706710</td>\n",
       "      <td>Medicina</td>\n",
       "      <td>740.22</td>\n",
       "      <td>726.46</td>\n",
       "      <td>None</td>\n",
       "      <td>None</td>\n",
       "    </tr>\n",
       "    <tr>\n",
       "      <th>1</th>\n",
       "      <td>Bacharelado</td>\n",
       "      <td>Noturno</td>\n",
       "      <td>9836.4</td>\n",
       "      <td>1</td>\n",
       "      <td>None</td>\n",
       "      <td>None</td>\n",
       "      <td>None</td>\n",
       "      <td>104191210567043</td>\n",
       "      <td>Enfermagem</td>\n",
       "      <td>Crateus</td>\n",
       "      <td>CE</td>\n",
       "      <td>MjMwNDAxODA0MTAz</td>\n",
       "      <td>Faculdade Princesa do Oeste - FPO</td>\n",
       "      <td>UNIDADE SEDE - São Vicente</td>\n",
       "      <td>1041912</td>\n",
       "      <td>Enfermagem</td>\n",
       "      <td>663.36</td>\n",
       "      <td>None</td>\n",
       "      <td>None</td>\n",
       "      <td>None</td>\n",
       "    </tr>\n",
       "    <tr>\n",
       "      <th>2</th>\n",
       "      <td>Bacharelado</td>\n",
       "      <td>Integral</td>\n",
       "      <td>9715.61</td>\n",
       "      <td>2</td>\n",
       "      <td>5</td>\n",
       "      <td>6</td>\n",
       "      <td>10</td>\n",
       "      <td>1002328574024</td>\n",
       "      <td>Medicina</td>\n",
       "      <td>Sao Paulo</td>\n",
       "      <td>SP</td>\n",
       "      <td>MzUxNTA2MTUwMzA4</td>\n",
       "      <td>Universidade Cidade de São Paulo - UNICID</td>\n",
       "      <td>UNIVERSIDADE CIDADE DE SÃO PAULO - UNICID - SE...</td>\n",
       "      <td>1002328</td>\n",
       "      <td>Medicina</td>\n",
       "      <td>739.62</td>\n",
       "      <td>738.08</td>\n",
       "      <td>738.96</td>\n",
       "      <td>718.64</td>\n",
       "    </tr>\n",
       "  </tbody>\n",
       "</table>\n",
       "</div>"
      ],
      "text/plain": [
       "          grau     turno mensalidade bolsa_integral_cotas  \\\n",
       "0  Bacharelado  Integral     9999.99                   15   \n",
       "1  Bacharelado   Noturno      9836.4                    1   \n",
       "2  Bacharelado  Integral     9715.61                    2   \n",
       "\n",
       "  bolsa_integral_ampla bolsa_parcial_cotas bolsa_parcial_ampla  \\\n",
       "0                   14                None                None   \n",
       "1                 None                None                None   \n",
       "2                    5                   6                  10   \n",
       "\n",
       "          curso_id curso_busca  cidade_busca uf_busca     cidade_filtro  \\\n",
       "0     706710394154    Medicina  Campo Grande       MS  NTAwMjAwNDAyNzA0   \n",
       "1  104191210567043  Enfermagem       Crateus       CE  MjMwNDAxODA0MTAz   \n",
       "2    1002328574024    Medicina     Sao Paulo       SP  MzUxNTA2MTUwMzA4   \n",
       "\n",
       "                           universidade_nome  \\\n",
       "0          Universidade Anhanguera - UNIDERP   \n",
       "1          Faculdade Princesa do Oeste - FPO   \n",
       "2  Universidade Cidade de São Paulo - UNICID   \n",
       "\n",
       "                                         campus_nome campus_id        nome  \\\n",
       "0                 CAMPO GRANDE - SEDE - Miguel Couto    706710    Medicina   \n",
       "1                         UNIDADE SEDE - São Vicente   1041912  Enfermagem   \n",
       "2  UNIVERSIDADE CIDADE DE SÃO PAULO - UNICID - SE...   1002328    Medicina   \n",
       "\n",
       "  nota_integral_ampla nota_integral_cotas nota_parcial_ampla  \\\n",
       "0              740.22              726.46               None   \n",
       "1              663.36                None               None   \n",
       "2              739.62              738.08             738.96   \n",
       "\n",
       "  nota_parcial_cotas  \n",
       "0               None  \n",
       "1               None  \n",
       "2             718.64  "
      ]
     },
     "execution_count": 5,
     "metadata": {},
     "output_type": "execute_result"
    }
   ],
   "source": [
    "cursos_prouni.limit(3).toPandas()"
   ]
  },
  {
   "cell_type": "code",
   "execution_count": 6,
   "metadata": {},
   "outputs": [
    {
     "name": "stdout",
     "output_type": "stream",
     "text": [
      "[('grau', 'string'), ('turno', 'string'), ('mensalidade', 'string'), ('bolsa_integral_cotas', 'string'), ('bolsa_integral_ampla', 'string'), ('bolsa_parcial_cotas', 'string'), ('bolsa_parcial_ampla', 'string'), ('curso_id', 'string'), ('curso_busca', 'string'), ('cidade_busca', 'string'), ('uf_busca', 'string'), ('cidade_filtro', 'string'), ('universidade_nome', 'string'), ('campus_nome', 'string'), ('campus_id', 'string'), ('nome', 'string'), ('nota_integral_ampla', 'string'), ('nota_integral_cotas', 'string'), ('nota_parcial_ampla', 'string'), ('nota_parcial_cotas', 'string')]\n"
     ]
    }
   ],
   "source": [
    "print(cursos_prouni.dtypes)"
   ]
  },
  {
   "cell_type": "code",
   "execution_count": 7,
   "metadata": {},
   "outputs": [
    {
     "name": "stdout",
     "output_type": "stream",
     "text": [
      "41447\n"
     ]
    }
   ],
   "source": [
    "print(cursos_prouni.count())"
   ]
  },
  {
   "cell_type": "code",
   "execution_count": 8,
   "metadata": {},
   "outputs": [
    {
     "data": {
      "text/plain": [
       "['grau',\n",
       " 'turno',\n",
       " 'mensalidade',\n",
       " 'bolsa_integral_cotas',\n",
       " 'bolsa_integral_ampla',\n",
       " 'bolsa_parcial_cotas',\n",
       " 'bolsa_parcial_ampla',\n",
       " 'curso_id',\n",
       " 'curso_busca',\n",
       " 'cidade_busca',\n",
       " 'uf_busca',\n",
       " 'cidade_filtro',\n",
       " 'universidade_nome',\n",
       " 'campus_nome',\n",
       " 'campus_id',\n",
       " 'nome',\n",
       " 'nota_integral_ampla',\n",
       " 'nota_integral_cotas',\n",
       " 'nota_parcial_ampla',\n",
       " 'nota_parcial_cotas']"
      ]
     },
     "execution_count": 8,
     "metadata": {},
     "output_type": "execute_result"
    }
   ],
   "source": [
    "cursos_prouni.columns"
   ]
  },
  {
   "cell_type": "markdown",
   "metadata": {},
   "source": [
    "**Endereços**"
   ]
  },
  {
   "cell_type": "code",
   "execution_count": 9,
   "metadata": {},
   "outputs": [
    {
     "data": {
      "text/html": [
       "<div>\n",
       "<style scoped>\n",
       "    .dataframe tbody tr th:only-of-type {\n",
       "        vertical-align: middle;\n",
       "    }\n",
       "\n",
       "    .dataframe tbody tr th {\n",
       "        vertical-align: top;\n",
       "    }\n",
       "\n",
       "    .dataframe thead th {\n",
       "        text-align: right;\n",
       "    }\n",
       "</style>\n",
       "<table border=\"1\" class=\"dataframe\">\n",
       "  <thead>\n",
       "    <tr style=\"text-align: right;\">\n",
       "      <th></th>\n",
       "      <th>uf</th>\n",
       "      <th>municipio</th>\n",
       "      <th>logradouro</th>\n",
       "      <th>complemento</th>\n",
       "      <th>bairro</th>\n",
       "      <th>telefone</th>\n",
       "      <th>external_id</th>\n",
       "    </tr>\n",
       "  </thead>\n",
       "  <tbody>\n",
       "    <tr>\n",
       "      <th>0</th>\n",
       "      <td>SP</td>\n",
       "      <td>Presidente Prudente</td>\n",
       "      <td>Rodovia Raposo Tavares Km 572</td>\n",
       "      <td>Km 572 -</td>\n",
       "      <td>Limoeiro</td>\n",
       "      <td>18 3229 2000</td>\n",
       "      <td>2522</td>\n",
       "    </tr>\n",
       "    <tr>\n",
       "      <th>1</th>\n",
       "      <td>SP</td>\n",
       "      <td>Sao Paulo</td>\n",
       "      <td>Avenida Interlagos</td>\n",
       "      <td>1329 - Universidade Ibirapuera</td>\n",
       "      <td>Jardim Umuarama</td>\n",
       "      <td>1150911193</td>\n",
       "      <td>1072704</td>\n",
       "    </tr>\n",
       "    <tr>\n",
       "      <th>2</th>\n",
       "      <td>SC</td>\n",
       "      <td>Balneario Camboriu</td>\n",
       "      <td>Avenida do Estado</td>\n",
       "      <td>3847 -</td>\n",
       "      <td>Centro</td>\n",
       "      <td>(47)3264-6813</td>\n",
       "      <td>8327</td>\n",
       "    </tr>\n",
       "  </tbody>\n",
       "</table>\n",
       "</div>"
      ],
      "text/plain": [
       "   uf            municipio                     logradouro  \\\n",
       "0  SP  Presidente Prudente  Rodovia Raposo Tavares Km 572   \n",
       "1  SP            Sao Paulo             Avenida Interlagos   \n",
       "2  SC   Balneario Camboriu              Avenida do Estado   \n",
       "\n",
       "                      complemento           bairro       telefone external_id  \n",
       "0                        Km 572 -         Limoeiro   18 3229 2000        2522  \n",
       "1  1329 - Universidade Ibirapuera  Jardim Umuarama     1150911193     1072704  \n",
       "2                          3847 -           Centro  (47)3264-6813        8327  "
      ]
     },
     "execution_count": 9,
     "metadata": {},
     "output_type": "execute_result"
    }
   ],
   "source": [
    "enderecos.limit(3).toPandas()"
   ]
  },
  {
   "cell_type": "code",
   "execution_count": 10,
   "metadata": {},
   "outputs": [
    {
     "name": "stdout",
     "output_type": "stream",
     "text": [
      "[('uf', 'string'), ('municipio', 'string'), ('logradouro', 'string'), ('complemento', 'string'), ('bairro', 'string'), ('telefone', 'string'), ('external_id', 'string')]\n"
     ]
    }
   ],
   "source": [
    "print(enderecos.dtypes)"
   ]
  },
  {
   "cell_type": "code",
   "execution_count": 11,
   "metadata": {},
   "outputs": [
    {
     "name": "stdout",
     "output_type": "stream",
     "text": [
      "5062\n"
     ]
    }
   ],
   "source": [
    "print(enderecos.count())"
   ]
  },
  {
   "cell_type": "code",
   "execution_count": 12,
   "metadata": {},
   "outputs": [
    {
     "data": {
      "text/plain": [
       "['uf',\n",
       " 'municipio',\n",
       " 'logradouro',\n",
       " 'complemento',\n",
       " 'bairro',\n",
       " 'telefone',\n",
       " 'external_id']"
      ]
     },
     "execution_count": 12,
     "metadata": {},
     "output_type": "execute_result"
    }
   ],
   "source": [
    "enderecos.columns"
   ]
  },
  {
   "cell_type": "markdown",
   "metadata": {},
   "source": [
    "### Filtrando os dados"
   ]
  },
  {
   "cell_type": "code",
   "execution_count": 13,
   "metadata": {},
   "outputs": [
    {
     "data": {
      "text/plain": [
       "['grau',\n",
       " 'turno',\n",
       " 'mensalidade',\n",
       " 'bolsa_integral_cotas',\n",
       " 'bolsa_integral_ampla',\n",
       " 'bolsa_parcial_cotas',\n",
       " 'bolsa_parcial_ampla',\n",
       " 'curso_id',\n",
       " 'curso_busca',\n",
       " 'cidade_busca',\n",
       " 'uf_busca',\n",
       " 'cidade_filtro',\n",
       " 'universidade_nome',\n",
       " 'campus_nome',\n",
       " 'campus_id',\n",
       " 'nome',\n",
       " 'nota_integral_ampla',\n",
       " 'nota_integral_cotas',\n",
       " 'nota_parcial_ampla',\n",
       " 'nota_parcial_cotas']"
      ]
     },
     "execution_count": 13,
     "metadata": {},
     "output_type": "execute_result"
    }
   ],
   "source": [
    "cursos_prouni.columns"
   ]
  },
  {
   "cell_type": "code",
   "execution_count": 14,
   "metadata": {},
   "outputs": [],
   "source": [
    "cursos_prouni_filter = (cursos_prouni\n",
    "                       .select(\"uf_busca\",\"grau\",\"turno\",\"mensalidade\",\"curso_id\",\"nome\", \"universidade_nome\"))"
   ]
  },
  {
   "cell_type": "code",
   "execution_count": 15,
   "metadata": {},
   "outputs": [
    {
     "name": "stdout",
     "output_type": "stream",
     "text": [
      "+--------+------------+--------+-----------+---------------+--------------------+--------------------+\n",
      "|uf_busca|        grau|   turno|mensalidade|       curso_id|                nome|   universidade_nome|\n",
      "+--------+------------+--------+-----------+---------------+--------------------+--------------------+\n",
      "|      MS| Bacharelado|Integral|    9999.99|   706710394154|            Medicina|Universidade Anha...|\n",
      "|      CE| Bacharelado| Noturno|     9836.4|104191210567043|          Enfermagem|Faculdade Princes...|\n",
      "|      SP| Bacharelado|Integral|    9715.61|  1002328574024|            Medicina|Universidade Cida...|\n",
      "|      CE| Bacharelado| Noturno|    9689.34|104191212798093|          Psicologia|Faculdade Princes...|\n",
      "|      AC| Bacharelado|Integral|    9674.34| 65899611932754|            Medicina|Faculdade Barão d...|\n",
      "|      SP| Bacharelado|Integral|     9650.0|    65781564964|            Medicina|Universidade do O...|\n",
      "|      SP| Bacharelado|Integral|     9564.0|    65788486984|            Medicina|Universidade de M...|\n",
      "|      MG| Bacharelado|Integral|     9350.0| 65861111850254|            Medicina|Centro Universitá...|\n",
      "|      MT| Bacharelado|Integral|     9208.0|   658099184724|            Medicina|Universidade de C...|\n",
      "|      BA| Bacharelado|Integral|     9048.0| 10505911785244|            Medicina|Faculdade de Ciên...|\n",
      "|      RJ| Bacharelado|Integral|    9023.07| 65921511844324|            Medicina|Faculdade Redento...|\n",
      "|      BA| Bacharelado| Noturno|    8695.43|  1055878921193|Engenharia de Com...|Universidade Salv...|\n",
      "|      SP| Bacharelado|Integral|     8600.0| 65881713994834|            Medicina|Claretiano - Facu...|\n",
      "|      PA| Bacharelado|Integral|    8508.54|104123711716094|            Medicina|Faculdade Metropo...|\n",
      "|      PR|Licenciatura|Matutino|    8466.72|   689693216461|     Educação Física|Faculdade Dom Bos...|\n",
      "|      PR| Bacharelado|Matutino|    8466.72|  6896933216461|     Educação Física|Faculdade Dom Bos...|\n",
      "|      PI| Bacharelado|Integral|     8402.0|105821211803184|            Medicina|Faculdade de Ciên...|\n",
      "|      PB| Bacharelado|Integral|     8350.0|   699042726814|            Medicina|Faculdade de Medi...|\n",
      "|      RS| Bacharelado|Integral|    8329.95|   100369211074|            Medicina|Universidade de C...|\n",
      "|      PR| Bacharelado|Integral|     8290.0|     6576768684|            Medicina|Pontifícia Univer...|\n",
      "+--------+------------+--------+-----------+---------------+--------------------+--------------------+\n",
      "only showing top 20 rows\n",
      "\n"
     ]
    }
   ],
   "source": [
    "cursos_prouni_filter.show()"
   ]
  },
  {
   "cell_type": "code",
   "execution_count": 16,
   "metadata": {},
   "outputs": [],
   "source": [
    "prouni_notas = (cursos_prouni\n",
    "               .select(\"curso_id\",\"nota_integral_ampla\",\"nota_integral_cotas\", \"nota_parcial_ampla\", \"nota_parcial_cotas\"))"
   ]
  },
  {
   "cell_type": "code",
   "execution_count": 17,
   "metadata": {},
   "outputs": [
    {
     "name": "stdout",
     "output_type": "stream",
     "text": [
      "+---------------+-------------------+-------------------+------------------+------------------+\n",
      "|       curso_id|nota_integral_ampla|nota_integral_cotas|nota_parcial_ampla|nota_parcial_cotas|\n",
      "+---------------+-------------------+-------------------+------------------+------------------+\n",
      "|   706710394154|             740.22|             726.46|              null|              null|\n",
      "|104191210567043|             663.36|               null|              null|              null|\n",
      "|  1002328574024|             739.62|             738.08|            738.96|            718.64|\n",
      "|104191212798093|              651.0|             652.22|              null|              null|\n",
      "| 65899611932754|             758.32|             723.94|            734.92|            711.26|\n",
      "|    65781564964|             738.92|             728.86|              null|              null|\n",
      "|    65788486984|             744.16|              735.0|              null|              null|\n",
      "| 65861111850254|             747.84|             736.68|              null|              null|\n",
      "|   658099184724|              735.4|             725.36|              null|              null|\n",
      "| 10505911785244|             741.04|             730.36|              null|              null|\n",
      "| 65921511844324|             741.06|             729.02|            730.98|            722.82|\n",
      "|  1055878921193|              747.9|             637.54|              null|              null|\n",
      "| 65881713994834|             734.44|             720.86|              null|              null|\n",
      "|104123711716094|             741.36|              739.9|             760.8|             715.1|\n",
      "|   689693216461|              579.2|              570.4|              null|              null|\n",
      "|  6896933216461|             589.08|             577.32|              null|              null|\n",
      "|105821211803184|             772.82|             739.86|              null|              null|\n",
      "|   699042726814|             759.76|             736.94|              null|              null|\n",
      "|   100369211074|             745.42|             751.32|              null|              null|\n",
      "|     6576768684|             760.04|               null|              null|              null|\n",
      "+---------------+-------------------+-------------------+------------------+------------------+\n",
      "only showing top 20 rows\n",
      "\n"
     ]
    }
   ],
   "source": [
    "prouni_notas.show()"
   ]
  },
  {
   "cell_type": "code",
   "execution_count": 18,
   "metadata": {},
   "outputs": [],
   "source": [
    "enderecos_filter = enderecos.where(col(\"uf\") == \"SP\")"
   ]
  },
  {
   "cell_type": "code",
   "execution_count": 19,
   "metadata": {},
   "outputs": [
    {
     "name": "stdout",
     "output_type": "stream",
     "text": [
      "+---+-------------------+--------------------+--------------------+-----------------+--------------------+-----------+\n",
      "| uf|          municipio|          logradouro|         complemento|           bairro|            telefone|external_id|\n",
      "+---+-------------------+--------------------+--------------------+-----------------+--------------------+-----------+\n",
      "| SP|Presidente Prudente|Rodovia Raposo Ta...|            Km 572 -|         Limoeiro|        18 3229 2000|       2522|\n",
      "| SP|          Sao Paulo|  Avenida Interlagos|1329 - Universida...|  Jardim Umuarama|          1150911193|    1072704|\n",
      "| SP|           Barretos|Avenida Professor...|               389 -|        Aeroporto|(17) 3321 6414 / ...|     659572|\n",
      "| SP|         Jaguariuna|        Rua Amazonas|               504 -| Jardim Dom Bosco|          1938378500|     658522|\n",
      "| SP|         Jaguariuna|Rodovia Adhemar d...|              S/n  -|  Tanquinho Velho|          1938378500|       3247|\n",
      "| SP|         Charqueada|   Rua Gabriel Lucas|               S/n -|Jardim Bela Vista|                   0|       9845|\n",
      "| SP|          Sao Paulo|    Rua Adolfo Pinto|               109 -|      Barra Funda|      (11) 3385-9080|       1801|\n",
      "| SP|          Sao Paulo|    Rua Amador Bueno|           389/491 -|      Santo Amaro|        11-3385-9248|      25206|\n",
      "| SP|          Sao Paulo|       Rua Vergueiro|               235 -|        Liberdade|        11-3385-9248|     706703|\n",
      "| SP|          Sao Paulo|      Rua Diamantina|               302 -|       Vila Maria|        11-3385-9248|     657833|\n",
      "| SP|         Sao Manuel|    Rua Emilio Rugai|               230 -|     Jd. Pinheiro|      (14) 3841-1729|    2006200|\n",
      "| SP|         Sao Manuel|Vicinal Nilo Lisb...|              5000 -|  Chácara Saltino|      (11) 2633-9000|      22657|\n",
      "| SP|        Votuporanga|           Rua Amapá|3343 - - de 3000/...|      Santa Luzia|      (17) 3422-2588|    1055865|\n",
      "| SP|         Votorantim|       Rua Paula Ney|              1230 -|Parque Bela Vista|      (15) 3247-5295|    1038937|\n",
      "| SP|         Sao Manuel|Viscinal Nilo Lis...|              5000 -| Chacara Saltinho|      (14) 3842 2000|     658632|\n",
      "| SP|            Vinhedo|Rua Salvador Rote...|               145 -|Residencial Flora|          8007740030|      22554|\n",
      "| SP|               Tupa|     Avenida Tamoios|      1350 - Sala 13|           Centro|        14 3496 1897|    1059813|\n",
      "| SP|               Tupa|     Rua Mandaguaris|       1010 - Térreo|           Centro|       (14) 34043862|     695783|\n",
      "| SP|           Valinhos|   Avenida Invernada|               595 -|        Vera Cruz|      (19) 3512-4900|     659563|\n",
      "| SP|           Valinhos|       Av. Invernada|               595 -|        Vera Cruz|(43) 3371-7473 (3...|      23154|\n",
      "+---+-------------------+--------------------+--------------------+-----------------+--------------------+-----------+\n",
      "only showing top 20 rows\n",
      "\n"
     ]
    }
   ],
   "source": [
    "enderecos_filter.show()"
   ]
  },
  {
   "cell_type": "code",
   "execution_count": 20,
   "metadata": {},
   "outputs": [],
   "source": [
    "cursos = cursos_prouni.withColumn(\"curso_id\",cursos_prouni[\"curso_id\"].cast(IntegerType()))"
   ]
  },
  {
   "cell_type": "code",
   "execution_count": 21,
   "metadata": {},
   "outputs": [
    {
     "data": {
      "text/html": [
       "\n",
       "            <div>\n",
       "                <p><b>SparkSession - in-memory</b></p>\n",
       "                \n",
       "        <div>\n",
       "            <p><b>SparkContext</b></p>\n",
       "\n",
       "            <p><a href=\"http://948951a2db92:4040\">Spark UI</a></p>\n",
       "\n",
       "            <dl>\n",
       "              <dt>Version</dt>\n",
       "                <dd><code>v3.0.0</code></dd>\n",
       "              <dt>Master</dt>\n",
       "                <dd><code>local[*]</code></dd>\n",
       "              <dt>AppName</dt>\n",
       "                <dd><code>workshop_spark</code></dd>\n",
       "            </dl>\n",
       "        </div>\n",
       "        \n",
       "            </div>\n",
       "        "
      ],
      "text/plain": [
       "<pyspark.sql.session.SparkSession at 0x7f7bfc0d4f40>"
      ]
     },
     "execution_count": 21,
     "metadata": {},
     "output_type": "execute_result"
    }
   ],
   "source": [
    "spark"
   ]
  },
  {
   "cell_type": "markdown",
   "metadata": {},
   "source": [
    "### Plano de Execução\n",
    "\n",
    "Data Lineage.\n",
    "\n",
    "#### Operações\n",
    "\n",
    "* Essas operações criam um novo DataFrame a partir do DataFrame base (original).\n",
    "* O Spark permite dois tipos distintos de operações pelo usuárrio:\n",
    "\n",
    "**Transformações**\n",
    "\n",
    "* São operações chamadas \"*lazy*\", pois não são executadas no momento em que você escreve e executa o código em uma célula.\n",
    "* Serão executadas depois que a ação é chamada.\n",
    "* Sempre retornam um dataframe.\n",
    "* Existem 2 tipos de Transformações:\n",
    "  * ***Wide***: Os dados necessários para calcular os registros em uma única partição podem residir em muitas partições do RDD.\n",
    "  * ***Narrow***: Os dados necessários para calcular os registros em uma única partição residem no máximo em uma partição do RDD.\n",
    "\n",
    "**Ações**\n",
    "\n",
    "* São comandos executados pelo Spark em tempo de execução.\n",
    "* Uma ação é composta por um ou mais jobs que consistem em tasks que serão executadas pelos slots do executador em paralelo\n",
    "* Sempre retornam um resultados ou gravam no disco."
   ]
  },
  {
   "cell_type": "code",
   "execution_count": 22,
   "metadata": {},
   "outputs": [
    {
     "name": "stdout",
     "output_type": "stream",
     "text": [
      "== Physical Plan ==\n",
      "*(1) Project [uf_busca#26, grau#16, turno#17, mensalidade#18, curso_id#23, nome#31, universidade_nome#28]\n",
      "+- FileScan csv [grau#16,turno#17,mensalidade#18,curso_id#23,uf_busca#26,universidade_nome#28,nome#31] Batched: false, DataFilters: [], Format: CSV, Location: InMemoryFileIndex[file:/opt/dna-spark/data/cursos-prouni.csv], PartitionFilters: [], PushedFilters: [], ReadSchema: struct<grau:string,turno:string,mensalidade:string,curso_id:string,uf_busca:string,universidade_n...\n",
      "\n",
      "\n"
     ]
    }
   ],
   "source": [
    "cursos_prouni_filter.explain()\n",
    "#Verifique a SparkUI"
   ]
  },
  {
   "cell_type": "code",
   "execution_count": 23,
   "metadata": {},
   "outputs": [
    {
     "name": "stdout",
     "output_type": "stream",
     "text": [
      "+---+-------------------+--------------------+--------------------+-----------------+--------------------+-----------+\n",
      "| uf|          municipio|          logradouro|         complemento|           bairro|            telefone|external_id|\n",
      "+---+-------------------+--------------------+--------------------+-----------------+--------------------+-----------+\n",
      "| SP|Presidente Prudente|Rodovia Raposo Ta...|            Km 572 -|         Limoeiro|        18 3229 2000|       2522|\n",
      "| SP|          Sao Paulo|  Avenida Interlagos|1329 - Universida...|  Jardim Umuarama|          1150911193|    1072704|\n",
      "| SP|           Barretos|Avenida Professor...|               389 -|        Aeroporto|(17) 3321 6414 / ...|     659572|\n",
      "| SP|         Jaguariuna|        Rua Amazonas|               504 -| Jardim Dom Bosco|          1938378500|     658522|\n",
      "| SP|         Jaguariuna|Rodovia Adhemar d...|              S/n  -|  Tanquinho Velho|          1938378500|       3247|\n",
      "| SP|         Charqueada|   Rua Gabriel Lucas|               S/n -|Jardim Bela Vista|                   0|       9845|\n",
      "| SP|          Sao Paulo|    Rua Adolfo Pinto|               109 -|      Barra Funda|      (11) 3385-9080|       1801|\n",
      "| SP|          Sao Paulo|    Rua Amador Bueno|           389/491 -|      Santo Amaro|        11-3385-9248|      25206|\n",
      "| SP|          Sao Paulo|       Rua Vergueiro|               235 -|        Liberdade|        11-3385-9248|     706703|\n",
      "| SP|          Sao Paulo|      Rua Diamantina|               302 -|       Vila Maria|        11-3385-9248|     657833|\n",
      "| SP|         Sao Manuel|    Rua Emilio Rugai|               230 -|     Jd. Pinheiro|      (14) 3841-1729|    2006200|\n",
      "| SP|         Sao Manuel|Vicinal Nilo Lisb...|              5000 -|  Chácara Saltino|      (11) 2633-9000|      22657|\n",
      "| SP|        Votuporanga|           Rua Amapá|3343 - - de 3000/...|      Santa Luzia|      (17) 3422-2588|    1055865|\n",
      "| SP|         Votorantim|       Rua Paula Ney|              1230 -|Parque Bela Vista|      (15) 3247-5295|    1038937|\n",
      "| SP|         Sao Manuel|Viscinal Nilo Lis...|              5000 -| Chacara Saltinho|      (14) 3842 2000|     658632|\n",
      "| SP|            Vinhedo|Rua Salvador Rote...|               145 -|Residencial Flora|          8007740030|      22554|\n",
      "| SP|               Tupa|     Avenida Tamoios|      1350 - Sala 13|           Centro|        14 3496 1897|    1059813|\n",
      "| SP|               Tupa|     Rua Mandaguaris|       1010 - Térreo|           Centro|       (14) 34043862|     695783|\n",
      "| SP|           Valinhos|   Avenida Invernada|               595 -|        Vera Cruz|      (19) 3512-4900|     659563|\n",
      "| SP|           Valinhos|       Av. Invernada|               595 -|        Vera Cruz|(43) 3371-7473 (3...|      23154|\n",
      "+---+-------------------+--------------------+--------------------+-----------------+--------------------+-----------+\n",
      "only showing top 20 rows\n",
      "\n"
     ]
    }
   ],
   "source": [
    "enderecos_filter.show()"
   ]
  },
  {
   "cell_type": "markdown",
   "metadata": {},
   "source": [
    "**Project** é um operador que pe criado depois de algum tipo de projeção implicata ou explicita pode aparecer no plano de execução depois do where, por exemplo."
   ]
  },
  {
   "cell_type": "code",
   "execution_count": 24,
   "metadata": {},
   "outputs": [
    {
     "name": "stdout",
     "output_type": "stream",
     "text": [
      "== Physical Plan ==\n",
      "*(1) Project [uf#72, municipio#73, logradouro#74, complemento#75, bairro#76, telefone#77, external_id#78]\n",
      "+- *(1) Filter (isnotnull(uf#72) AND (uf#72 = SP))\n",
      "   +- FileScan csv [uf#72,municipio#73,logradouro#74,complemento#75,bairro#76,telefone#77,external_id#78] Batched: false, DataFilters: [isnotnull(uf#72), (uf#72 = SP)], Format: CSV, Location: InMemoryFileIndex[file:/opt/dna-spark/data/enderecos-campi.csv], PartitionFilters: [], PushedFilters: [IsNotNull(uf), EqualTo(uf,SP)], ReadSchema: struct<uf:string,municipio:string,logradouro:string,complemento:string,bairro:string,telefone:str...\n",
      "\n",
      "\n"
     ]
    }
   ],
   "source": [
    "enderecos_filter.explain()"
   ]
  },
  {
   "cell_type": "code",
   "execution_count": 25,
   "metadata": {},
   "outputs": [
    {
     "data": {
      "text/plain": [
       "DataFrame[uf: string, municipio: string, logradouro: string, complemento: string, bairro: string, telefone: string, external_id: string]"
      ]
     },
     "execution_count": 25,
     "metadata": {},
     "output_type": "execute_result"
    }
   ],
   "source": [
    "enderecos.where(col(\"UF\") == \"MG\")"
   ]
  },
  {
   "cell_type": "code",
   "execution_count": 26,
   "metadata": {},
   "outputs": [
    {
     "name": "stdout",
     "output_type": "stream",
     "text": [
      "+---+-------------------+--------------------+--------------------+-----------------+--------------------+-----------+\n",
      "| uf|          municipio|          logradouro|         complemento|           bairro|            telefone|external_id|\n",
      "+---+-------------------+--------------------+--------------------+-----------------+--------------------+-----------+\n",
      "| SP|Presidente Prudente|Rodovia Raposo Ta...|            Km 572 -|         Limoeiro|        18 3229 2000|       2522|\n",
      "| SP|          Sao Paulo|  Avenida Interlagos|1329 - Universida...|  Jardim Umuarama|          1150911193|    1072704|\n",
      "| SP|           Barretos|Avenida Professor...|               389 -|        Aeroporto|(17) 3321 6414 / ...|     659572|\n",
      "| SP|         Jaguariuna|        Rua Amazonas|               504 -| Jardim Dom Bosco|          1938378500|     658522|\n",
      "| SP|         Jaguariuna|Rodovia Adhemar d...|              S/n  -|  Tanquinho Velho|          1938378500|       3247|\n",
      "| SP|         Charqueada|   Rua Gabriel Lucas|               S/n -|Jardim Bela Vista|                   0|       9845|\n",
      "| SP|          Sao Paulo|    Rua Adolfo Pinto|               109 -|      Barra Funda|      (11) 3385-9080|       1801|\n",
      "| SP|          Sao Paulo|    Rua Amador Bueno|           389/491 -|      Santo Amaro|        11-3385-9248|      25206|\n",
      "| SP|          Sao Paulo|       Rua Vergueiro|               235 -|        Liberdade|        11-3385-9248|     706703|\n",
      "| SP|          Sao Paulo|      Rua Diamantina|               302 -|       Vila Maria|        11-3385-9248|     657833|\n",
      "| SP|         Sao Manuel|    Rua Emilio Rugai|               230 -|     Jd. Pinheiro|      (14) 3841-1729|    2006200|\n",
      "| SP|         Sao Manuel|Vicinal Nilo Lisb...|              5000 -|  Chácara Saltino|      (11) 2633-9000|      22657|\n",
      "| SP|        Votuporanga|           Rua Amapá|3343 - - de 3000/...|      Santa Luzia|      (17) 3422-2588|    1055865|\n",
      "| SP|         Votorantim|       Rua Paula Ney|              1230 -|Parque Bela Vista|      (15) 3247-5295|    1038937|\n",
      "| SP|         Sao Manuel|Viscinal Nilo Lis...|              5000 -| Chacara Saltinho|      (14) 3842 2000|     658632|\n",
      "| SP|            Vinhedo|Rua Salvador Rote...|               145 -|Residencial Flora|          8007740030|      22554|\n",
      "| SP|               Tupa|     Avenida Tamoios|      1350 - Sala 13|           Centro|        14 3496 1897|    1059813|\n",
      "| SP|               Tupa|     Rua Mandaguaris|       1010 - Térreo|           Centro|       (14) 34043862|     695783|\n",
      "| SP|           Valinhos|   Avenida Invernada|               595 -|        Vera Cruz|      (19) 3512-4900|     659563|\n",
      "| SP|           Valinhos|       Av. Invernada|               595 -|        Vera Cruz|(43) 3371-7473 (3...|      23154|\n",
      "+---+-------------------+--------------------+--------------------+-----------------+--------------------+-----------+\n",
      "only showing top 20 rows\n",
      "\n"
     ]
    }
   ],
   "source": [
    "enderecos_filter.show()"
   ]
  },
  {
   "cell_type": "markdown",
   "metadata": {},
   "source": [
    "### Nulls e NaNs"
   ]
  },
  {
   "cell_type": "code",
   "execution_count": 27,
   "metadata": {},
   "outputs": [
    {
     "data": {
      "text/html": [
       "<div>\n",
       "<style scoped>\n",
       "    .dataframe tbody tr th:only-of-type {\n",
       "        vertical-align: middle;\n",
       "    }\n",
       "\n",
       "    .dataframe tbody tr th {\n",
       "        vertical-align: top;\n",
       "    }\n",
       "\n",
       "    .dataframe thead th {\n",
       "        text-align: right;\n",
       "    }\n",
       "</style>\n",
       "<table border=\"1\" class=\"dataframe\">\n",
       "  <thead>\n",
       "    <tr style=\"text-align: right;\">\n",
       "      <th></th>\n",
       "      <th>curso_id</th>\n",
       "      <th>nota_integral_ampla</th>\n",
       "      <th>nota_integral_cotas</th>\n",
       "      <th>nota_parcial_ampla</th>\n",
       "      <th>nota_parcial_cotas</th>\n",
       "      <th>prouni_nulls</th>\n",
       "    </tr>\n",
       "  </thead>\n",
       "  <tbody>\n",
       "    <tr>\n",
       "      <th>0</th>\n",
       "      <td>706710394154</td>\n",
       "      <td>740.22</td>\n",
       "      <td>726.46</td>\n",
       "      <td>None</td>\n",
       "      <td>None</td>\n",
       "      <td>False</td>\n",
       "    </tr>\n",
       "    <tr>\n",
       "      <th>1</th>\n",
       "      <td>104191210567043</td>\n",
       "      <td>663.36</td>\n",
       "      <td>None</td>\n",
       "      <td>None</td>\n",
       "      <td>None</td>\n",
       "      <td>True</td>\n",
       "    </tr>\n",
       "    <tr>\n",
       "      <th>2</th>\n",
       "      <td>1002328574024</td>\n",
       "      <td>739.62</td>\n",
       "      <td>738.08</td>\n",
       "      <td>738.96</td>\n",
       "      <td>718.64</td>\n",
       "      <td>False</td>\n",
       "    </tr>\n",
       "    <tr>\n",
       "      <th>3</th>\n",
       "      <td>104191212798093</td>\n",
       "      <td>651.0</td>\n",
       "      <td>652.22</td>\n",
       "      <td>None</td>\n",
       "      <td>None</td>\n",
       "      <td>False</td>\n",
       "    </tr>\n",
       "    <tr>\n",
       "      <th>4</th>\n",
       "      <td>65899611932754</td>\n",
       "      <td>758.32</td>\n",
       "      <td>723.94</td>\n",
       "      <td>734.92</td>\n",
       "      <td>711.26</td>\n",
       "      <td>False</td>\n",
       "    </tr>\n",
       "    <tr>\n",
       "      <th>...</th>\n",
       "      <td>...</td>\n",
       "      <td>...</td>\n",
       "      <td>...</td>\n",
       "      <td>...</td>\n",
       "      <td>...</td>\n",
       "      <td>...</td>\n",
       "    </tr>\n",
       "    <tr>\n",
       "      <th>41442</th>\n",
       "      <td>994312865605</td>\n",
       "      <td>502.36</td>\n",
       "      <td>None</td>\n",
       "      <td>None</td>\n",
       "      <td>None</td>\n",
       "      <td>True</td>\n",
       "    </tr>\n",
       "    <tr>\n",
       "      <th>41443</th>\n",
       "      <td>65868712869275</td>\n",
       "      <td>533.34</td>\n",
       "      <td>450.0</td>\n",
       "      <td>450.0</td>\n",
       "      <td>450.0</td>\n",
       "      <td>False</td>\n",
       "    </tr>\n",
       "    <tr>\n",
       "      <th>41444</th>\n",
       "      <td>1056445674232</td>\n",
       "      <td>580.76</td>\n",
       "      <td>None</td>\n",
       "      <td>None</td>\n",
       "      <td>None</td>\n",
       "      <td>True</td>\n",
       "    </tr>\n",
       "    <tr>\n",
       "      <th>41445</th>\n",
       "      <td>96781210935</td>\n",
       "      <td>548.26</td>\n",
       "      <td>None</td>\n",
       "      <td>None</td>\n",
       "      <td>None</td>\n",
       "      <td>True</td>\n",
       "    </tr>\n",
       "    <tr>\n",
       "      <th>41446</th>\n",
       "      <td>200467412868575</td>\n",
       "      <td>605.32</td>\n",
       "      <td>573.7</td>\n",
       "      <td>None</td>\n",
       "      <td>None</td>\n",
       "      <td>False</td>\n",
       "    </tr>\n",
       "  </tbody>\n",
       "</table>\n",
       "<p>41447 rows × 6 columns</p>\n",
       "</div>"
      ],
      "text/plain": [
       "              curso_id nota_integral_ampla nota_integral_cotas  \\\n",
       "0         706710394154              740.22              726.46   \n",
       "1      104191210567043              663.36                None   \n",
       "2        1002328574024              739.62              738.08   \n",
       "3      104191212798093               651.0              652.22   \n",
       "4       65899611932754              758.32              723.94   \n",
       "...                ...                 ...                 ...   \n",
       "41442     994312865605              502.36                None   \n",
       "41443   65868712869275              533.34               450.0   \n",
       "41444    1056445674232              580.76                None   \n",
       "41445      96781210935              548.26                None   \n",
       "41446  200467412868575              605.32               573.7   \n",
       "\n",
       "      nota_parcial_ampla nota_parcial_cotas  prouni_nulls  \n",
       "0                   None               None         False  \n",
       "1                   None               None          True  \n",
       "2                 738.96             718.64         False  \n",
       "3                   None               None         False  \n",
       "4                 734.92             711.26         False  \n",
       "...                  ...                ...           ...  \n",
       "41442               None               None          True  \n",
       "41443              450.0              450.0         False  \n",
       "41444               None               None          True  \n",
       "41445               None               None          True  \n",
       "41446               None               None         False  \n",
       "\n",
       "[41447 rows x 6 columns]"
      ]
     },
     "execution_count": 27,
     "metadata": {},
     "output_type": "execute_result"
    }
   ],
   "source": [
    "#Verificar a Ref SQL Nan Semantics\n",
    "prouni_notas.withColumn(\"prouni_nulls\",col(\"nota_integral_cotas\").isNull()).toPandas()"
   ]
  },
  {
   "cell_type": "code",
   "execution_count": 28,
   "metadata": {},
   "outputs": [
    {
     "data": {
      "text/html": [
       "<div>\n",
       "<style scoped>\n",
       "    .dataframe tbody tr th:only-of-type {\n",
       "        vertical-align: middle;\n",
       "    }\n",
       "\n",
       "    .dataframe tbody tr th {\n",
       "        vertical-align: top;\n",
       "    }\n",
       "\n",
       "    .dataframe thead th {\n",
       "        text-align: right;\n",
       "    }\n",
       "</style>\n",
       "<table border=\"1\" class=\"dataframe\">\n",
       "  <thead>\n",
       "    <tr style=\"text-align: right;\">\n",
       "      <th></th>\n",
       "      <th>curso_id</th>\n",
       "      <th>nota_integral_ampla</th>\n",
       "      <th>nota_integral_cotas</th>\n",
       "      <th>nota_parcial_ampla</th>\n",
       "      <th>nota_parcial_cotas</th>\n",
       "    </tr>\n",
       "  </thead>\n",
       "  <tbody>\n",
       "    <tr>\n",
       "      <th>0</th>\n",
       "      <td>0.0</td>\n",
       "      <td>0.0</td>\n",
       "      <td>0.0</td>\n",
       "      <td>0.0</td>\n",
       "      <td>0.0</td>\n",
       "    </tr>\n",
       "  </tbody>\n",
       "</table>\n",
       "</div>"
      ],
      "text/plain": [
       "   curso_id  nota_integral_ampla  nota_integral_cotas  nota_parcial_ampla  \\\n",
       "0       0.0                  0.0                  0.0                 0.0   \n",
       "\n",
       "   nota_parcial_cotas  \n",
       "0                 0.0  "
      ]
     },
     "execution_count": 28,
     "metadata": {},
     "output_type": "execute_result"
    }
   ],
   "source": [
    "def count_null(c):\n",
    "    pred = col(c).isNull() & isnan(c)\n",
    "    return sum(pred.cast(\"integer\"))\n",
    "\n",
    "exprs = [(count_null(c) / count(\"*\")).alias(c) for c in prouni_notas.columns]\n",
    "prouni_notas.agg(*exprs).toPandas()"
   ]
  },
  {
   "cell_type": "code",
   "execution_count": 29,
   "metadata": {},
   "outputs": [
    {
     "data": {
      "text/html": [
       "<div>\n",
       "<style scoped>\n",
       "    .dataframe tbody tr th:only-of-type {\n",
       "        vertical-align: middle;\n",
       "    }\n",
       "\n",
       "    .dataframe tbody tr th {\n",
       "        vertical-align: top;\n",
       "    }\n",
       "\n",
       "    .dataframe thead th {\n",
       "        text-align: right;\n",
       "    }\n",
       "</style>\n",
       "<table border=\"1\" class=\"dataframe\">\n",
       "  <thead>\n",
       "    <tr style=\"text-align: right;\">\n",
       "      <th></th>\n",
       "      <th>uf</th>\n",
       "      <th>municipio</th>\n",
       "      <th>logradouro</th>\n",
       "      <th>complemento</th>\n",
       "      <th>bairro</th>\n",
       "      <th>telefone</th>\n",
       "      <th>external_id</th>\n",
       "      <th>enderecos_null</th>\n",
       "    </tr>\n",
       "  </thead>\n",
       "  <tbody>\n",
       "    <tr>\n",
       "      <th>0</th>\n",
       "      <td>SP</td>\n",
       "      <td>Presidente Prudente</td>\n",
       "      <td>Rodovia Raposo Tavares Km 572</td>\n",
       "      <td>Km 572 -</td>\n",
       "      <td>Limoeiro</td>\n",
       "      <td>18 3229 2000</td>\n",
       "      <td>2522</td>\n",
       "      <td>False</td>\n",
       "    </tr>\n",
       "    <tr>\n",
       "      <th>1</th>\n",
       "      <td>SP</td>\n",
       "      <td>Sao Paulo</td>\n",
       "      <td>Avenida Interlagos</td>\n",
       "      <td>1329 - Universidade Ibirapuera</td>\n",
       "      <td>Jardim Umuarama</td>\n",
       "      <td>1150911193</td>\n",
       "      <td>1072704</td>\n",
       "      <td>False</td>\n",
       "    </tr>\n",
       "    <tr>\n",
       "      <th>2</th>\n",
       "      <td>SC</td>\n",
       "      <td>Balneario Camboriu</td>\n",
       "      <td>Avenida do Estado</td>\n",
       "      <td>3847 -</td>\n",
       "      <td>Centro</td>\n",
       "      <td>(47)3264-6813</td>\n",
       "      <td>8327</td>\n",
       "      <td>False</td>\n",
       "    </tr>\n",
       "    <tr>\n",
       "      <th>3</th>\n",
       "      <td>PR</td>\n",
       "      <td>Marechal Candido Rondon</td>\n",
       "      <td>Rua Sete de Setembro</td>\n",
       "      <td>2341 - Isepe</td>\n",
       "      <td>Centro</td>\n",
       "      <td>(45) 3284 7400</td>\n",
       "      <td>658724</td>\n",
       "      <td>False</td>\n",
       "    </tr>\n",
       "    <tr>\n",
       "      <th>4</th>\n",
       "      <td>MG</td>\n",
       "      <td>Montes Claros</td>\n",
       "      <td>Rua Monte Pascoal</td>\n",
       "      <td>284 -</td>\n",
       "      <td>Ibituruna</td>\n",
       "      <td>(038)32147100</td>\n",
       "      <td>133859</td>\n",
       "      <td>False</td>\n",
       "    </tr>\n",
       "    <tr>\n",
       "      <th>...</th>\n",
       "      <td>...</td>\n",
       "      <td>...</td>\n",
       "      <td>...</td>\n",
       "      <td>...</td>\n",
       "      <td>...</td>\n",
       "      <td>...</td>\n",
       "      <td>...</td>\n",
       "      <td>...</td>\n",
       "    </tr>\n",
       "    <tr>\n",
       "      <th>5057</th>\n",
       "      <td>RJ</td>\n",
       "      <td>Rio de Janeiro</td>\n",
       "      <td>Rua Ibituruna</td>\n",
       "      <td>108 - Universidade Veiga de Almeida</td>\n",
       "      <td>Maracanã</td>\n",
       "      <td>(21) 2179-8200 / 3591-7204</td>\n",
       "      <td>6106</td>\n",
       "      <td>False</td>\n",
       "    </tr>\n",
       "    <tr>\n",
       "      <th>5058</th>\n",
       "      <td>SP</td>\n",
       "      <td>Ribeirao Preto</td>\n",
       "      <td>Rua Camilo de Mattos</td>\n",
       "      <td>2211 -</td>\n",
       "      <td>Jardim Paulista</td>\n",
       "      <td>16-39939230</td>\n",
       "      <td>1076245</td>\n",
       "      <td>False</td>\n",
       "    </tr>\n",
       "    <tr>\n",
       "      <th>5059</th>\n",
       "      <td>SP</td>\n",
       "      <td>Araraquara</td>\n",
       "      <td>Av. Feijó</td>\n",
       "      <td>122 -</td>\n",
       "      <td>Centro</td>\n",
       "      <td>(16) 3336-1234</td>\n",
       "      <td>1037252</td>\n",
       "      <td>False</td>\n",
       "    </tr>\n",
       "    <tr>\n",
       "      <th>5060</th>\n",
       "      <td>CE</td>\n",
       "      <td>Juazeiro do Norte</td>\n",
       "      <td>Avenida Padre Cícero</td>\n",
       "      <td>2830 -</td>\n",
       "      <td>Triângulo</td>\n",
       "      <td>(88) 21011000</td>\n",
       "      <td>696831</td>\n",
       "      <td>False</td>\n",
       "    </tr>\n",
       "    <tr>\n",
       "      <th>5061</th>\n",
       "      <td>SP</td>\n",
       "      <td>Osasco</td>\n",
       "      <td>R. Euclides da Cunha</td>\n",
       "      <td>377 -</td>\n",
       "      <td>Centro</td>\n",
       "      <td>8007717744</td>\n",
       "      <td>140794</td>\n",
       "      <td>False</td>\n",
       "    </tr>\n",
       "  </tbody>\n",
       "</table>\n",
       "<p>5062 rows × 8 columns</p>\n",
       "</div>"
      ],
      "text/plain": [
       "      uf                municipio                     logradouro  \\\n",
       "0     SP      Presidente Prudente  Rodovia Raposo Tavares Km 572   \n",
       "1     SP                Sao Paulo             Avenida Interlagos   \n",
       "2     SC       Balneario Camboriu              Avenida do Estado   \n",
       "3     PR  Marechal Candido Rondon           Rua Sete de Setembro   \n",
       "4     MG            Montes Claros              Rua Monte Pascoal   \n",
       "...   ..                      ...                            ...   \n",
       "5057  RJ           Rio de Janeiro                  Rua Ibituruna   \n",
       "5058  SP           Ribeirao Preto           Rua Camilo de Mattos   \n",
       "5059  SP               Araraquara                      Av. Feijó   \n",
       "5060  CE        Juazeiro do Norte           Avenida Padre Cícero   \n",
       "5061  SP                   Osasco           R. Euclides da Cunha   \n",
       "\n",
       "                              complemento           bairro  \\\n",
       "0                                Km 572 -         Limoeiro   \n",
       "1          1329 - Universidade Ibirapuera  Jardim Umuarama   \n",
       "2                                  3847 -           Centro   \n",
       "3                            2341 - Isepe           Centro   \n",
       "4                                   284 -        Ibituruna   \n",
       "...                                   ...              ...   \n",
       "5057  108 - Universidade Veiga de Almeida         Maracanã   \n",
       "5058                               2211 -  Jardim Paulista   \n",
       "5059                                122 -           Centro   \n",
       "5060                               2830 -        Triângulo   \n",
       "5061                                377 -           Centro   \n",
       "\n",
       "                        telefone external_id  enderecos_null  \n",
       "0                   18 3229 2000        2522           False  \n",
       "1                     1150911193     1072704           False  \n",
       "2                  (47)3264-6813        8327           False  \n",
       "3                 (45) 3284 7400      658724           False  \n",
       "4                  (038)32147100      133859           False  \n",
       "...                          ...         ...             ...  \n",
       "5057  (21) 2179-8200 / 3591-7204        6106           False  \n",
       "5058                 16-39939230     1076245           False  \n",
       "5059              (16) 3336-1234     1037252           False  \n",
       "5060               (88) 21011000      696831           False  \n",
       "5061                  8007717744      140794           False  \n",
       "\n",
       "[5062 rows x 8 columns]"
      ]
     },
     "execution_count": 29,
     "metadata": {},
     "output_type": "execute_result"
    }
   ],
   "source": [
    "enderecos.withColumn(\"enderecos_null\",col(\"municipio\").isNull()).toPandas()"
   ]
  },
  {
   "cell_type": "markdown",
   "metadata": {},
   "source": [
    "Agora vamos criar um df nll na"
   ]
  },
  {
   "cell_type": "code",
   "execution_count": 30,
   "metadata": {},
   "outputs": [],
   "source": [
    "df_nan_null = spark.createDataFrame([(1.0, float('nan')), (float('nan'), 2.0),(None,3.0)], (\"a\", \"b\"))"
   ]
  },
  {
   "cell_type": "code",
   "execution_count": 31,
   "metadata": {},
   "outputs": [
    {
     "name": "stdout",
     "output_type": "stream",
     "text": [
      "+----+---+\n",
      "|   a|  b|\n",
      "+----+---+\n",
      "| 1.0|NaN|\n",
      "| NaN|2.0|\n",
      "|null|3.0|\n",
      "+----+---+\n",
      "\n"
     ]
    }
   ],
   "source": [
    "df_nan_null.show()"
   ]
  },
  {
   "cell_type": "code",
   "execution_count": 32,
   "metadata": {},
   "outputs": [
    {
     "name": "stdout",
     "output_type": "stream",
     "text": [
      "+----+---+\n",
      "|   a|  b|\n",
      "+----+---+\n",
      "|null|3.0|\n",
      "+----+---+\n",
      "\n"
     ]
    }
   ],
   "source": [
    "df_nan_null.where(df_nan_null.a.isNull()).show()"
   ]
  },
  {
   "cell_type": "code",
   "execution_count": 33,
   "metadata": {},
   "outputs": [
    {
     "name": "stdout",
     "output_type": "stream",
     "text": [
      "+---+---+\n",
      "|  a|  b|\n",
      "+---+---+\n",
      "|NaN|2.0|\n",
      "+---+---+\n",
      "\n"
     ]
    }
   ],
   "source": [
    "df_nan_null.where(isnan(df_nan_null.a)).show()"
   ]
  },
  {
   "cell_type": "markdown",
   "metadata": {},
   "source": [
    "**Tratando os valores nulos**"
   ]
  },
  {
   "cell_type": "code",
   "execution_count": 34,
   "metadata": {},
   "outputs": [
    {
     "name": "stdout",
     "output_type": "stream",
     "text": [
      "     a    b\n",
      "0  1.0  NaN\n",
      "1  NaN  2.0\n",
      "2  NaN  3.0\n"
     ]
    }
   ],
   "source": [
    "print(df_nan_null.toPandas())"
   ]
  },
  {
   "cell_type": "code",
   "execution_count": 35,
   "metadata": {},
   "outputs": [
    {
     "name": "stdout",
     "output_type": "stream",
     "text": [
      "Empty DataFrame\n",
      "Columns: [a, b]\n",
      "Index: []\n"
     ]
    }
   ],
   "source": [
    "print(df_nan_null.na.drop().toPandas())"
   ]
  },
  {
   "cell_type": "code",
   "execution_count": 36,
   "metadata": {},
   "outputs": [
    {
     "data": {
      "text/html": [
       "<div>\n",
       "<style scoped>\n",
       "    .dataframe tbody tr th:only-of-type {\n",
       "        vertical-align: middle;\n",
       "    }\n",
       "\n",
       "    .dataframe tbody tr th {\n",
       "        vertical-align: top;\n",
       "    }\n",
       "\n",
       "    .dataframe thead th {\n",
       "        text-align: right;\n",
       "    }\n",
       "</style>\n",
       "<table border=\"1\" class=\"dataframe\">\n",
       "  <thead>\n",
       "    <tr style=\"text-align: right;\">\n",
       "      <th></th>\n",
       "      <th>a</th>\n",
       "      <th>b</th>\n",
       "    </tr>\n",
       "  </thead>\n",
       "  <tbody>\n",
       "    <tr>\n",
       "      <th>0</th>\n",
       "      <td>1.0</td>\n",
       "      <td>0.0</td>\n",
       "    </tr>\n",
       "    <tr>\n",
       "      <th>1</th>\n",
       "      <td>0.0</td>\n",
       "      <td>2.0</td>\n",
       "    </tr>\n",
       "    <tr>\n",
       "      <th>2</th>\n",
       "      <td>0.0</td>\n",
       "      <td>3.0</td>\n",
       "    </tr>\n",
       "  </tbody>\n",
       "</table>\n",
       "</div>"
      ],
      "text/plain": [
       "     a    b\n",
       "0  1.0  0.0\n",
       "1  0.0  2.0\n",
       "2  0.0  3.0"
      ]
     },
     "execution_count": 36,
     "metadata": {},
     "output_type": "execute_result"
    }
   ],
   "source": [
    "df_nan_null.na.fill(0).toPandas()"
   ]
  },
  {
   "attachments": {
    "image.png": {
     "image/png": "[encoded data removed]"
    }
   },
   "cell_type": "markdown",
   "metadata": {},
   "source": [
    "### Join\n",
    "\n",
    "![image.png](attachment:image.png)"
   ]
  },
  {
   "cell_type": "code",
   "execution_count": 37,
   "metadata": {},
   "outputs": [],
   "source": [
    "df = (prouni_notas.join(cursos_prouni_filter, \"curso_id\", how=\"left\"))"
   ]
  },
  {
   "cell_type": "code",
   "execution_count": 38,
   "metadata": {},
   "outputs": [
    {
     "data": {
      "text/plain": [
       "['curso_id',\n",
       " 'nota_integral_ampla',\n",
       " 'nota_integral_cotas',\n",
       " 'nota_parcial_ampla',\n",
       " 'nota_parcial_cotas']"
      ]
     },
     "execution_count": 38,
     "metadata": {},
     "output_type": "execute_result"
    }
   ],
   "source": [
    "#Dataset A\n",
    "prouni_notas.columns"
   ]
  },
  {
   "cell_type": "code",
   "execution_count": 39,
   "metadata": {},
   "outputs": [
    {
     "data": {
      "text/plain": [
       "['uf_busca',\n",
       " 'grau',\n",
       " 'turno',\n",
       " 'mensalidade',\n",
       " 'curso_id',\n",
       " 'nome',\n",
       " 'universidade_nome']"
      ]
     },
     "execution_count": 39,
     "metadata": {},
     "output_type": "execute_result"
    }
   ],
   "source": [
    "#Dataset B\n",
    "cursos_prouni_filter.columns"
   ]
  },
  {
   "cell_type": "code",
   "execution_count": 40,
   "metadata": {},
   "outputs": [
    {
     "data": {
      "text/plain": [
       "['curso_id',\n",
       " 'nota_integral_ampla',\n",
       " 'nota_integral_cotas',\n",
       " 'nota_parcial_ampla',\n",
       " 'nota_parcial_cotas',\n",
       " 'uf_busca',\n",
       " 'grau',\n",
       " 'turno',\n",
       " 'mensalidade',\n",
       " 'nome',\n",
       " 'universidade_nome']"
      ]
     },
     "execution_count": 40,
     "metadata": {},
     "output_type": "execute_result"
    }
   ],
   "source": [
    "#Resultado\n",
    "df.columns"
   ]
  },
  {
   "cell_type": "code",
   "execution_count": 41,
   "metadata": {},
   "outputs": [
    {
     "data": {
      "text/html": [
       "<div>\n",
       "<style scoped>\n",
       "    .dataframe tbody tr th:only-of-type {\n",
       "        vertical-align: middle;\n",
       "    }\n",
       "\n",
       "    .dataframe tbody tr th {\n",
       "        vertical-align: top;\n",
       "    }\n",
       "\n",
       "    .dataframe thead th {\n",
       "        text-align: right;\n",
       "    }\n",
       "</style>\n",
       "<table border=\"1\" class=\"dataframe\">\n",
       "  <thead>\n",
       "    <tr style=\"text-align: right;\">\n",
       "      <th></th>\n",
       "      <th>curso_id</th>\n",
       "      <th>nota_integral_ampla</th>\n",
       "      <th>nota_integral_cotas</th>\n",
       "      <th>nota_parcial_ampla</th>\n",
       "      <th>nota_parcial_cotas</th>\n",
       "      <th>uf_busca</th>\n",
       "      <th>grau</th>\n",
       "      <th>turno</th>\n",
       "      <th>mensalidade</th>\n",
       "      <th>nome</th>\n",
       "      <th>universidade_nome</th>\n",
       "    </tr>\n",
       "  </thead>\n",
       "  <tbody>\n",
       "    <tr>\n",
       "      <th>0</th>\n",
       "      <td>706710394154</td>\n",
       "      <td>740.22</td>\n",
       "      <td>726.46</td>\n",
       "      <td>None</td>\n",
       "      <td>None</td>\n",
       "      <td>MS</td>\n",
       "      <td>Bacharelado</td>\n",
       "      <td>Integral</td>\n",
       "      <td>9999.99</td>\n",
       "      <td>Medicina</td>\n",
       "      <td>Universidade Anhanguera - UNIDERP</td>\n",
       "    </tr>\n",
       "    <tr>\n",
       "      <th>1</th>\n",
       "      <td>104191210567043</td>\n",
       "      <td>663.36</td>\n",
       "      <td>None</td>\n",
       "      <td>None</td>\n",
       "      <td>None</td>\n",
       "      <td>CE</td>\n",
       "      <td>Bacharelado</td>\n",
       "      <td>Noturno</td>\n",
       "      <td>9836.4</td>\n",
       "      <td>Enfermagem</td>\n",
       "      <td>Faculdade Princesa do Oeste - FPO</td>\n",
       "    </tr>\n",
       "    <tr>\n",
       "      <th>2</th>\n",
       "      <td>1002328574024</td>\n",
       "      <td>739.62</td>\n",
       "      <td>738.08</td>\n",
       "      <td>738.96</td>\n",
       "      <td>718.64</td>\n",
       "      <td>SP</td>\n",
       "      <td>Bacharelado</td>\n",
       "      <td>Integral</td>\n",
       "      <td>9715.61</td>\n",
       "      <td>Medicina</td>\n",
       "      <td>Universidade Cidade de São Paulo - UNICID</td>\n",
       "    </tr>\n",
       "    <tr>\n",
       "      <th>3</th>\n",
       "      <td>104191212798093</td>\n",
       "      <td>651.0</td>\n",
       "      <td>652.22</td>\n",
       "      <td>None</td>\n",
       "      <td>None</td>\n",
       "      <td>CE</td>\n",
       "      <td>Bacharelado</td>\n",
       "      <td>Noturno</td>\n",
       "      <td>9689.34</td>\n",
       "      <td>Psicologia</td>\n",
       "      <td>Faculdade Princesa do Oeste - FPO</td>\n",
       "    </tr>\n",
       "    <tr>\n",
       "      <th>4</th>\n",
       "      <td>65899611932754</td>\n",
       "      <td>758.32</td>\n",
       "      <td>723.94</td>\n",
       "      <td>734.92</td>\n",
       "      <td>711.26</td>\n",
       "      <td>AC</td>\n",
       "      <td>Bacharelado</td>\n",
       "      <td>Integral</td>\n",
       "      <td>9674.34</td>\n",
       "      <td>Medicina</td>\n",
       "      <td>Faculdade Barão do Rio Branco - FAB</td>\n",
       "    </tr>\n",
       "  </tbody>\n",
       "</table>\n",
       "</div>"
      ],
      "text/plain": [
       "          curso_id nota_integral_ampla nota_integral_cotas nota_parcial_ampla  \\\n",
       "0     706710394154              740.22              726.46               None   \n",
       "1  104191210567043              663.36                None               None   \n",
       "2    1002328574024              739.62              738.08             738.96   \n",
       "3  104191212798093               651.0              652.22               None   \n",
       "4   65899611932754              758.32              723.94             734.92   \n",
       "\n",
       "  nota_parcial_cotas uf_busca         grau     turno mensalidade        nome  \\\n",
       "0               None       MS  Bacharelado  Integral     9999.99    Medicina   \n",
       "1               None       CE  Bacharelado   Noturno      9836.4  Enfermagem   \n",
       "2             718.64       SP  Bacharelado  Integral     9715.61    Medicina   \n",
       "3               None       CE  Bacharelado   Noturno     9689.34  Psicologia   \n",
       "4             711.26       AC  Bacharelado  Integral     9674.34    Medicina   \n",
       "\n",
       "                           universidade_nome  \n",
       "0          Universidade Anhanguera - UNIDERP  \n",
       "1          Faculdade Princesa do Oeste - FPO  \n",
       "2  Universidade Cidade de São Paulo - UNICID  \n",
       "3          Faculdade Princesa do Oeste - FPO  \n",
       "4        Faculdade Barão do Rio Branco - FAB  "
      ]
     },
     "execution_count": 41,
     "metadata": {},
     "output_type": "execute_result"
    }
   ],
   "source": [
    "df.limit(5).toPandas()"
   ]
  },
  {
   "cell_type": "code",
   "execution_count": 42,
   "metadata": {},
   "outputs": [],
   "source": [
    "##INNER\n",
    "df_inner = cursos_prouni_filter.join(prouni_notas, \"curso_id\", how =\"inner\")"
   ]
  },
  {
   "cell_type": "code",
   "execution_count": 43,
   "metadata": {},
   "outputs": [
    {
     "data": {
      "text/plain": [
       "['curso_id',\n",
       " 'uf_busca',\n",
       " 'grau',\n",
       " 'turno',\n",
       " 'mensalidade',\n",
       " 'nome',\n",
       " 'universidade_nome',\n",
       " 'nota_integral_ampla',\n",
       " 'nota_integral_cotas',\n",
       " 'nota_parcial_ampla',\n",
       " 'nota_parcial_cotas']"
      ]
     },
     "execution_count": 43,
     "metadata": {},
     "output_type": "execute_result"
    }
   ],
   "source": [
    "df_inner.columns"
   ]
  },
  {
   "cell_type": "markdown",
   "metadata": {},
   "source": [
    "### Broadcast\n",
    "\n",
    "Broadcast faz com que os valores sejam salvos em memória (se não tiver memporia suficiente, vai pro disco), para todos os executores que irão precisar desses dados. \n",
    "\n",
    "Pode ser utilizado para joins entre tabelas grandes com tabelas relativamente pequenas.\n",
    "\n",
    "Essa estratégia de join já é utilizada quando o tamanho de uma das tabelas fica abaixo da configuração *spark.sql.autoBroadcastJoinThreshold*"
   ]
  },
  {
   "cell_type": "code",
   "execution_count": 44,
   "metadata": {},
   "outputs": [],
   "source": [
    "df_broadcast = df.join(broadcast(cursos_prouni), \"curso_id\", how=\"left\")"
   ]
  },
  {
   "cell_type": "code",
   "execution_count": 74,
   "metadata": {},
   "outputs": [
    {
     "name": "stdout",
     "output_type": "stream",
     "text": [
      "== Physical Plan ==\n",
      "*(3) Project [curso_id#23, nota_integral_ampla#32, nota_integral_cotas#33, nota_parcial_ampla#34, nota_parcial_cotas#35, uf_busca#910, grau#900, turno#901, mensalidade#902, nome#915, universidade_nome#912, grau#1100, turno#1101, mensalidade#1102, bolsa_integral_cotas#1103, bolsa_integral_ampla#1104, bolsa_parcial_cotas#1105, bolsa_parcial_ampla#1106, curso_busca#1108, cidade_busca#1109, uf_busca#1110, cidade_filtro#1111, universidade_nome#1112, campus_nome#1113, ... 6 more fields]\n",
      "+- *(3) BroadcastHashJoin [curso_id#23], [curso_id#1107], LeftOuter, BuildRight\n",
      "   :- *(3) Project [curso_id#23, nota_integral_ampla#32, nota_integral_cotas#33, nota_parcial_ampla#34, nota_parcial_cotas#35, uf_busca#910, grau#900, turno#901, mensalidade#902, nome#915, universidade_nome#912]\n",
      "   :  +- *(3) BroadcastHashJoin [curso_id#23], [curso_id#907], LeftOuter, BuildRight\n",
      "   :     :- FileScan csv [curso_id#23,nota_integral_ampla#32,nota_integral_cotas#33,nota_parcial_ampla#34,nota_parcial_cotas#35] Batched: false, DataFilters: [], Format: CSV, Location: InMemoryFileIndex[file:/opt/dna-spark/data/cursos-prouni.csv], PartitionFilters: [], PushedFilters: [], ReadSchema: struct<curso_id:string,nota_integral_ampla:string,nota_integral_cotas:string,nota_parcial_ampla:s...\n",
      "   :     +- BroadcastExchange HashedRelationBroadcastMode(List(input[4, string, true])), [id=#573]\n",
      "   :        +- *(1) Project [uf_busca#910, grau#900, turno#901, mensalidade#902, curso_id#907, nome#915, universidade_nome#912]\n",
      "   :           +- *(1) Filter isnotnull(curso_id#907)\n",
      "   :              +- FileScan csv [grau#900,turno#901,mensalidade#902,curso_id#907,uf_busca#910,universidade_nome#912,nome#915] Batched: false, DataFilters: [isnotnull(curso_id#907)], Format: CSV, Location: InMemoryFileIndex[file:/opt/dna-spark/data/cursos-prouni.csv], PartitionFilters: [], PushedFilters: [IsNotNull(curso_id)], ReadSchema: struct<grau:string,turno:string,mensalidade:string,curso_id:string,uf_busca:string,universidade_n...\n",
      "   +- BroadcastExchange HashedRelationBroadcastMode(List(input[7, string, true])), [id=#581]\n",
      "      +- *(2) Project [grau#1100, turno#1101, mensalidade#1102, bolsa_integral_cotas#1103, bolsa_integral_ampla#1104, bolsa_parcial_cotas#1105, bolsa_parcial_ampla#1106, curso_id#1107, curso_busca#1108, cidade_busca#1109, uf_busca#1110, cidade_filtro#1111, universidade_nome#1112, campus_nome#1113, campus_id#1114, nome#1115, nota_integral_ampla#1116, nota_integral_cotas#1117, nota_parcial_ampla#1118, nota_parcial_cotas#1119]\n",
      "         +- *(2) Filter isnotnull(curso_id#1107)\n",
      "            +- FileScan csv [grau#1100,turno#1101,mensalidade#1102,bolsa_integral_cotas#1103,bolsa_integral_ampla#1104,bolsa_parcial_cotas#1105,bolsa_parcial_ampla#1106,curso_id#1107,curso_busca#1108,cidade_busca#1109,uf_busca#1110,cidade_filtro#1111,universidade_nome#1112,campus_nome#1113,campus_id#1114,nome#1115,nota_integral_ampla#1116,nota_integral_cotas#1117,nota_parcial_ampla#1118,nota_parcial_cotas#1119] Batched: false, DataFilters: [isnotnull(curso_id#1107)], Format: CSV, Location: InMemoryFileIndex[file:/opt/dna-spark/data/cursos-prouni.csv], PartitionFilters: [], PushedFilters: [IsNotNull(curso_id)], ReadSchema: struct<grau:string,turno:string,mensalidade:string,bolsa_integral_cotas:string,bolsa_integral_amp...\n",
      "\n",
      "\n",
      "None\n"
     ]
    },
    {
     "data": {
      "text/html": [
       "<div>\n",
       "<style scoped>\n",
       "    .dataframe tbody tr th:only-of-type {\n",
       "        vertical-align: middle;\n",
       "    }\n",
       "\n",
       "    .dataframe tbody tr th {\n",
       "        vertical-align: top;\n",
       "    }\n",
       "\n",
       "    .dataframe thead th {\n",
       "        text-align: right;\n",
       "    }\n",
       "</style>\n",
       "<table border=\"1\" class=\"dataframe\">\n",
       "  <thead>\n",
       "    <tr style=\"text-align: right;\">\n",
       "      <th></th>\n",
       "      <th>curso_id</th>\n",
       "      <th>nota_integral_ampla</th>\n",
       "      <th>nota_integral_cotas</th>\n",
       "      <th>nota_parcial_ampla</th>\n",
       "      <th>nota_parcial_cotas</th>\n",
       "      <th>uf_busca</th>\n",
       "      <th>grau</th>\n",
       "      <th>turno</th>\n",
       "      <th>mensalidade</th>\n",
       "      <th>nome</th>\n",
       "      <th>...</th>\n",
       "      <th>uf_busca</th>\n",
       "      <th>cidade_filtro</th>\n",
       "      <th>universidade_nome</th>\n",
       "      <th>campus_nome</th>\n",
       "      <th>campus_id</th>\n",
       "      <th>nome</th>\n",
       "      <th>nota_integral_ampla</th>\n",
       "      <th>nota_integral_cotas</th>\n",
       "      <th>nota_parcial_ampla</th>\n",
       "      <th>nota_parcial_cotas</th>\n",
       "    </tr>\n",
       "  </thead>\n",
       "  <tbody>\n",
       "    <tr>\n",
       "      <th>0</th>\n",
       "      <td>706710394154</td>\n",
       "      <td>740.22</td>\n",
       "      <td>726.46</td>\n",
       "      <td>None</td>\n",
       "      <td>None</td>\n",
       "      <td>MS</td>\n",
       "      <td>Bacharelado</td>\n",
       "      <td>Integral</td>\n",
       "      <td>9999.99</td>\n",
       "      <td>Medicina</td>\n",
       "      <td>...</td>\n",
       "      <td>MS</td>\n",
       "      <td>NTAwMjAwNDAyNzA0</td>\n",
       "      <td>Universidade Anhanguera - UNIDERP</td>\n",
       "      <td>CAMPO GRANDE - SEDE - Miguel Couto</td>\n",
       "      <td>706710</td>\n",
       "      <td>Medicina</td>\n",
       "      <td>740.22</td>\n",
       "      <td>726.46</td>\n",
       "      <td>None</td>\n",
       "      <td>None</td>\n",
       "    </tr>\n",
       "    <tr>\n",
       "      <th>1</th>\n",
       "      <td>104191210567043</td>\n",
       "      <td>663.36</td>\n",
       "      <td>None</td>\n",
       "      <td>None</td>\n",
       "      <td>None</td>\n",
       "      <td>CE</td>\n",
       "      <td>Bacharelado</td>\n",
       "      <td>Noturno</td>\n",
       "      <td>9836.4</td>\n",
       "      <td>Enfermagem</td>\n",
       "      <td>...</td>\n",
       "      <td>CE</td>\n",
       "      <td>MjMwNDAxODA0MTAz</td>\n",
       "      <td>Faculdade Princesa do Oeste - FPO</td>\n",
       "      <td>UNIDADE SEDE - São Vicente</td>\n",
       "      <td>1041912</td>\n",
       "      <td>Enfermagem</td>\n",
       "      <td>663.36</td>\n",
       "      <td>None</td>\n",
       "      <td>None</td>\n",
       "      <td>None</td>\n",
       "    </tr>\n",
       "  </tbody>\n",
       "</table>\n",
       "<p>2 rows × 30 columns</p>\n",
       "</div>"
      ],
      "text/plain": [
       "          curso_id nota_integral_ampla nota_integral_cotas nota_parcial_ampla  \\\n",
       "0     706710394154              740.22              726.46               None   \n",
       "1  104191210567043              663.36                None               None   \n",
       "\n",
       "  nota_parcial_cotas uf_busca         grau     turno mensalidade        nome  \\\n",
       "0               None       MS  Bacharelado  Integral     9999.99    Medicina   \n",
       "1               None       CE  Bacharelado   Noturno      9836.4  Enfermagem   \n",
       "\n",
       "   ... uf_busca     cidade_filtro                  universidade_nome  \\\n",
       "0  ...       MS  NTAwMjAwNDAyNzA0  Universidade Anhanguera - UNIDERP   \n",
       "1  ...       CE  MjMwNDAxODA0MTAz  Faculdade Princesa do Oeste - FPO   \n",
       "\n",
       "                          campus_nome campus_id        nome  \\\n",
       "0  CAMPO GRANDE - SEDE - Miguel Couto    706710    Medicina   \n",
       "1          UNIDADE SEDE - São Vicente   1041912  Enfermagem   \n",
       "\n",
       "  nota_integral_ampla nota_integral_cotas nota_parcial_ampla  \\\n",
       "0              740.22              726.46               None   \n",
       "1              663.36                None               None   \n",
       "\n",
       "  nota_parcial_cotas  \n",
       "0               None  \n",
       "1               None  \n",
       "\n",
       "[2 rows x 30 columns]"
      ]
     },
     "execution_count": 74,
     "metadata": {},
     "output_type": "execute_result"
    }
   ],
   "source": [
    "print(df_broadcast.explain())\n",
    "df_broadcast.limit(2).toPandas()"
   ]
  },
  {
   "cell_type": "code",
   "execution_count": 45,
   "metadata": {},
   "outputs": [
    {
     "name": "stdout",
     "output_type": "stream",
     "text": [
      "== Physical Plan ==\n",
      "*(2) Project [curso_id#23, nota_integral_ampla#32, nota_integral_cotas#33, nota_parcial_ampla#34, nota_parcial_cotas#35, uf_busca#472, grau#462, turno#463, mensalidade#464, nome#477, universidade_nome#474]\n",
      "+- *(2) BroadcastHashJoin [curso_id#23], [curso_id#469], LeftOuter, BuildRight\n",
      "   :- FileScan csv [curso_id#23,nota_integral_ampla#32,nota_integral_cotas#33,nota_parcial_ampla#34,nota_parcial_cotas#35] Batched: false, DataFilters: [], Format: CSV, Location: InMemoryFileIndex[file:/opt/dna-spark/data/cursos-prouni.csv], PartitionFilters: [], PushedFilters: [], ReadSchema: struct<curso_id:string,nota_integral_ampla:string,nota_integral_cotas:string,nota_parcial_ampla:s...\n",
      "   +- BroadcastExchange HashedRelationBroadcastMode(List(input[4, string, true])), [id=#333]\n",
      "      +- *(1) Project [uf_busca#472, grau#462, turno#463, mensalidade#464, curso_id#469, nome#477, universidade_nome#474]\n",
      "         +- *(1) Filter isnotnull(curso_id#469)\n",
      "            +- FileScan csv [grau#462,turno#463,mensalidade#464,curso_id#469,uf_busca#472,universidade_nome#474,nome#477] Batched: false, DataFilters: [isnotnull(curso_id#469)], Format: CSV, Location: InMemoryFileIndex[file:/opt/dna-spark/data/cursos-prouni.csv], PartitionFilters: [], PushedFilters: [IsNotNull(curso_id)], ReadSchema: struct<grau:string,turno:string,mensalidade:string,curso_id:string,uf_busca:string,universidade_n...\n",
      "\n",
      "\n"
     ]
    }
   ],
   "source": [
    "df.explain()"
   ]
  },
  {
   "cell_type": "markdown",
   "metadata": {},
   "source": [
    "### Referências:\n",
    "\n",
    "* [Spark - Anatomy of Spark Application](https://luminousmen.com/post/spark-anatomy-of-spark-application)\n",
    "* [Spark UI](https://spark.apache.org/docs/3.0.0-preview2/web-ui.html)\n",
    "* [Leitura de csv com o Spark](https://sparkbyexamples.com/spark/spark-read-csv-file-into-dataframe/)\n",
    "* [Data Lineage](https://www.cienciaedados.com/o-que-e-linhagem-de-dados-data-lineage/)\n",
    "* [Série Spark - Parte 3: Interfaces do Apache Spark](http://datascienceacademy.com.br/blog/serie-spark-e-databricks-parte-3-interfaces-do-apache-spark/)\n",
    "* [SQL Nan Semantics](https://spark.apache.org/docs/3.0.0-preview/sql-ref-nan-semantics.html)\n",
    "* [Joins -PySpark](https://dzone.com/articles/pyspark-join-explained-with-examples)\n",
    "* [Broadcast](https://www.tutorialspoint.com/pyspark/pyspark_broadcast_and_accumulator.htm)\n",
    "* [Broadcast - SQL](https://jaceklaskowski.gitbooks.io/mastering-spark-sql/content/spark-sql-joins-broadcast.html)\n",
    "* [SQL Hint](https://jaceklaskowski.gitbooks.io/mastering-spark-sql/content/spark-sql-hint-framework.html)"
   ]
  },
  {
   "cell_type": "code",
   "execution_count": null,
   "metadata": {},
   "outputs": [],
   "source": []
  }
 ],
 "metadata": {
  "kernelspec": {
   "display_name": "Python 3",
   "language": "python",
   "name": "python3"
  },
  "language_info": {
   "codemirror_mode": {
    "name": "ipython",
    "version": 3
   },
   "file_extension": ".py",
   "mimetype": "text/x-python",
   "name": "python",
   "nbconvert_exporter": "python",
   "pygments_lexer": "ipython3",
   "version": "3.8.3"
  }
 },
 "nbformat": 4,
 "nbformat_minor": 4
}
