{
 "cells": [
  {
   "cell_type": "markdown",
   "metadata": {},
   "source": [
    "## Estudos PySpark\n",
    "\n",
    "Notebook dedicado ao estudo de PySpark, com datasets públicos da CVM.\n",
    "\n",
    "Fonte : [Dataset Ofertas de Distribuição]( http://dados.cvm.gov.br/dados/OFERTA/DISTRIB/DADOS/oferta_distribuicao.csv)"
   ]
  },
  {
   "cell_type": "markdown",
   "metadata": {},
   "source": [
    "**Imports**"
   ]
  },
  {
   "cell_type": "code",
   "execution_count": 1,
   "metadata": {},
   "outputs": [],
   "source": [
    "from pyspark.sql.functions import *\n",
    "from pyspark.sql import SparkSession\n",
    "from pyspark.sql.types import IntegerType\n",
    "from pyspark.sql.window import Window"
   ]
  },
  {
   "cell_type": "markdown",
   "metadata": {},
   "source": [
    "### SparkSession\n",
    "\n",
    "Sem o SparkSession, sua aplicação spark não consegue rodar. Cria o SparkContext e SparkConfig.\n",
    "\n",
    "**SparkContext**\n",
    "\n",
    "* É o principal ponto de entrada na funcionalidade do Spark e, portanto, o coração de qualquer aplicativo Spark. \n",
    "* Permite que o Spark Driver acesse o cluster por meio de seu Cluster Resource Manager e pode ser usado para criar RDDs, acumuladores e variáveis de transmissão no cluster. \n",
    "* O Spark Context também rastreia os executores em tempo real, enviando mensagens regulares de pulsação.\n",
    "* O Spark Context é criado pelo Spark Driver para cada aplicativo Spark quando é enviado pela primeira vez pelo usuário. Ele existe durante todo o tempo de vida do aplicativo Spark.\n",
    "* Para de funcionar depois que o aplicativo Spark é concluído. \n",
    "* Para cada JVM, apenas um Spark Context pode estar ativo."
   ]
  },
  {
   "cell_type": "code",
   "execution_count": 2,
   "metadata": {},
   "outputs": [],
   "source": [
    "spark = (SparkSession.builder \n",
    "        .master(\"local[*]\") \n",
    "        .appName(\"workshop_spark\")\n",
    "        .getOrCreate())"
   ]
  },
  {
   "cell_type": "markdown",
   "metadata": {},
   "source": [
    "### Spark UI\n",
    "\n",
    "O Apache Spark fornece um conjunto de interfaces de usuário da web (UIs) que você pode usar para monitorar o status e o consumo de recursos do cluster Spark."
   ]
  },
  {
   "cell_type": "code",
   "execution_count": 3,
   "metadata": {},
   "outputs": [
    {
     "data": {
      "text/html": [
       "\n",
       "            <div>\n",
       "                <p><b>SparkSession - in-memory</b></p>\n",
       "                \n",
       "        <div>\n",
       "            <p><b>SparkContext</b></p>\n",
       "\n",
       "            <p><a href=\"http://948951a2db92:4040\">Spark UI</a></p>\n",
       "\n",
       "            <dl>\n",
       "              <dt>Version</dt>\n",
       "                <dd><code>v3.0.0</code></dd>\n",
       "              <dt>Master</dt>\n",
       "                <dd><code>local[*]</code></dd>\n",
       "              <dt>AppName</dt>\n",
       "                <dd><code>workshop_spark</code></dd>\n",
       "            </dl>\n",
       "        </div>\n",
       "        \n",
       "            </div>\n",
       "        "
      ],
      "text/plain": [
       "<pyspark.sql.session.SparkSession at 0x7f276c076ee0>"
      ]
     },
     "execution_count": 3,
     "metadata": {},
     "output_type": "execute_result"
    }
   ],
   "source": [
    "#Verificar a UI\n",
    "spark"
   ]
  },
  {
   "cell_type": "code",
   "execution_count": 6,
   "metadata": {},
   "outputs": [],
   "source": [
    "cursos_prouni = spark.read.option(\"header\", True).csv(\"../data/cursos-prouni.csv\")\n",
    "enderecos = spark.read.option(\"header\", True).csv(\"../data/enderecos-campi.csv\")"
   ]
  },
  {
   "cell_type": "markdown",
   "metadata": {},
   "source": [
    "### Conhecendo os dados \n",
    "\n",
    "**Cursos**"
   ]
  },
  {
   "cell_type": "code",
   "execution_count": 7,
   "metadata": {},
   "outputs": [
    {
     "data": {
      "text/html": [
       "<div>\n",
       "<style scoped>\n",
       "    .dataframe tbody tr th:only-of-type {\n",
       "        vertical-align: middle;\n",
       "    }\n",
       "\n",
       "    .dataframe tbody tr th {\n",
       "        vertical-align: top;\n",
       "    }\n",
       "\n",
       "    .dataframe thead th {\n",
       "        text-align: right;\n",
       "    }\n",
       "</style>\n",
       "<table border=\"1\" class=\"dataframe\">\n",
       "  <thead>\n",
       "    <tr style=\"text-align: right;\">\n",
       "      <th></th>\n",
       "      <th>grau</th>\n",
       "      <th>turno</th>\n",
       "      <th>mensalidade</th>\n",
       "      <th>bolsa_integral_cotas</th>\n",
       "      <th>bolsa_integral_ampla</th>\n",
       "      <th>bolsa_parcial_cotas</th>\n",
       "      <th>bolsa_parcial_ampla</th>\n",
       "      <th>curso_id</th>\n",
       "      <th>curso_busca</th>\n",
       "      <th>cidade_busca</th>\n",
       "      <th>uf_busca</th>\n",
       "      <th>cidade_filtro</th>\n",
       "      <th>universidade_nome</th>\n",
       "      <th>campus_nome</th>\n",
       "      <th>campus_id</th>\n",
       "      <th>nome</th>\n",
       "      <th>nota_integral_ampla</th>\n",
       "      <th>nota_integral_cotas</th>\n",
       "      <th>nota_parcial_ampla</th>\n",
       "      <th>nota_parcial_cotas</th>\n",
       "    </tr>\n",
       "  </thead>\n",
       "  <tbody>\n",
       "    <tr>\n",
       "      <th>0</th>\n",
       "      <td>Bacharelado</td>\n",
       "      <td>Integral</td>\n",
       "      <td>9999.99</td>\n",
       "      <td>15</td>\n",
       "      <td>14</td>\n",
       "      <td>None</td>\n",
       "      <td>None</td>\n",
       "      <td>706710394154</td>\n",
       "      <td>Medicina</td>\n",
       "      <td>Campo Grande</td>\n",
       "      <td>MS</td>\n",
       "      <td>NTAwMjAwNDAyNzA0</td>\n",
       "      <td>Universidade Anhanguera - UNIDERP</td>\n",
       "      <td>CAMPO GRANDE - SEDE - Miguel Couto</td>\n",
       "      <td>706710</td>\n",
       "      <td>Medicina</td>\n",
       "      <td>740.22</td>\n",
       "      <td>726.46</td>\n",
       "      <td>None</td>\n",
       "      <td>None</td>\n",
       "    </tr>\n",
       "    <tr>\n",
       "      <th>1</th>\n",
       "      <td>Bacharelado</td>\n",
       "      <td>Noturno</td>\n",
       "      <td>9836.4</td>\n",
       "      <td>1</td>\n",
       "      <td>None</td>\n",
       "      <td>None</td>\n",
       "      <td>None</td>\n",
       "      <td>104191210567043</td>\n",
       "      <td>Enfermagem</td>\n",
       "      <td>Crateus</td>\n",
       "      <td>CE</td>\n",
       "      <td>MjMwNDAxODA0MTAz</td>\n",
       "      <td>Faculdade Princesa do Oeste - FPO</td>\n",
       "      <td>UNIDADE SEDE - São Vicente</td>\n",
       "      <td>1041912</td>\n",
       "      <td>Enfermagem</td>\n",
       "      <td>663.36</td>\n",
       "      <td>None</td>\n",
       "      <td>None</td>\n",
       "      <td>None</td>\n",
       "    </tr>\n",
       "    <tr>\n",
       "      <th>2</th>\n",
       "      <td>Bacharelado</td>\n",
       "      <td>Integral</td>\n",
       "      <td>9715.61</td>\n",
       "      <td>2</td>\n",
       "      <td>5</td>\n",
       "      <td>6</td>\n",
       "      <td>10</td>\n",
       "      <td>1002328574024</td>\n",
       "      <td>Medicina</td>\n",
       "      <td>Sao Paulo</td>\n",
       "      <td>SP</td>\n",
       "      <td>MzUxNTA2MTUwMzA4</td>\n",
       "      <td>Universidade Cidade de São Paulo - UNICID</td>\n",
       "      <td>UNIVERSIDADE CIDADE DE SÃO PAULO - UNICID - SE...</td>\n",
       "      <td>1002328</td>\n",
       "      <td>Medicina</td>\n",
       "      <td>739.62</td>\n",
       "      <td>738.08</td>\n",
       "      <td>738.96</td>\n",
       "      <td>718.64</td>\n",
       "    </tr>\n",
       "  </tbody>\n",
       "</table>\n",
       "</div>"
      ],
      "text/plain": [
       "          grau     turno mensalidade bolsa_integral_cotas  \\\n",
       "0  Bacharelado  Integral     9999.99                   15   \n",
       "1  Bacharelado   Noturno      9836.4                    1   \n",
       "2  Bacharelado  Integral     9715.61                    2   \n",
       "\n",
       "  bolsa_integral_ampla bolsa_parcial_cotas bolsa_parcial_ampla  \\\n",
       "0                   14                None                None   \n",
       "1                 None                None                None   \n",
       "2                    5                   6                  10   \n",
       "\n",
       "          curso_id curso_busca  cidade_busca uf_busca     cidade_filtro  \\\n",
       "0     706710394154    Medicina  Campo Grande       MS  NTAwMjAwNDAyNzA0   \n",
       "1  104191210567043  Enfermagem       Crateus       CE  MjMwNDAxODA0MTAz   \n",
       "2    1002328574024    Medicina     Sao Paulo       SP  MzUxNTA2MTUwMzA4   \n",
       "\n",
       "                           universidade_nome  \\\n",
       "0          Universidade Anhanguera - UNIDERP   \n",
       "1          Faculdade Princesa do Oeste - FPO   \n",
       "2  Universidade Cidade de São Paulo - UNICID   \n",
       "\n",
       "                                         campus_nome campus_id        nome  \\\n",
       "0                 CAMPO GRANDE - SEDE - Miguel Couto    706710    Medicina   \n",
       "1                         UNIDADE SEDE - São Vicente   1041912  Enfermagem   \n",
       "2  UNIVERSIDADE CIDADE DE SÃO PAULO - UNICID - SE...   1002328    Medicina   \n",
       "\n",
       "  nota_integral_ampla nota_integral_cotas nota_parcial_ampla  \\\n",
       "0              740.22              726.46               None   \n",
       "1              663.36                None               None   \n",
       "2              739.62              738.08             738.96   \n",
       "\n",
       "  nota_parcial_cotas  \n",
       "0               None  \n",
       "1               None  \n",
       "2             718.64  "
      ]
     },
     "execution_count": 7,
     "metadata": {},
     "output_type": "execute_result"
    }
   ],
   "source": [
    "cursos_prouni.limit(3).toPandas()"
   ]
  },
  {
   "cell_type": "code",
   "execution_count": 9,
   "metadata": {},
   "outputs": [
    {
     "name": "stdout",
     "output_type": "stream",
     "text": [
      "[('grau', 'string'), ('turno', 'string'), ('mensalidade', 'string'), ('bolsa_integral_cotas', 'string'), ('bolsa_integral_ampla', 'string'), ('bolsa_parcial_cotas', 'string'), ('bolsa_parcial_ampla', 'string'), ('curso_id', 'string'), ('curso_busca', 'string'), ('cidade_busca', 'string'), ('uf_busca', 'string'), ('cidade_filtro', 'string'), ('universidade_nome', 'string'), ('campus_nome', 'string'), ('campus_id', 'string'), ('nome', 'string'), ('nota_integral_ampla', 'string'), ('nota_integral_cotas', 'string'), ('nota_parcial_ampla', 'string'), ('nota_parcial_cotas', 'string')]\n"
     ]
    }
   ],
   "source": [
    "print(cursos_prouni.dtypes)"
   ]
  },
  {
   "cell_type": "code",
   "execution_count": 11,
   "metadata": {},
   "outputs": [
    {
     "name": "stdout",
     "output_type": "stream",
     "text": [
      "41447\n"
     ]
    }
   ],
   "source": [
    "print(cursos_prouni.count())"
   ]
  },
  {
   "cell_type": "code",
   "execution_count": 12,
   "metadata": {},
   "outputs": [
    {
     "data": {
      "text/plain": [
       "['grau',\n",
       " 'turno',\n",
       " 'mensalidade',\n",
       " 'bolsa_integral_cotas',\n",
       " 'bolsa_integral_ampla',\n",
       " 'bolsa_parcial_cotas',\n",
       " 'bolsa_parcial_ampla',\n",
       " 'curso_id',\n",
       " 'curso_busca',\n",
       " 'cidade_busca',\n",
       " 'uf_busca',\n",
       " 'cidade_filtro',\n",
       " 'universidade_nome',\n",
       " 'campus_nome',\n",
       " 'campus_id',\n",
       " 'nome',\n",
       " 'nota_integral_ampla',\n",
       " 'nota_integral_cotas',\n",
       " 'nota_parcial_ampla',\n",
       " 'nota_parcial_cotas']"
      ]
     },
     "execution_count": 12,
     "metadata": {},
     "output_type": "execute_result"
    }
   ],
   "source": [
    "cursos_prouni.columns"
   ]
  },
  {
   "cell_type": "markdown",
   "metadata": {},
   "source": [
    "**Endereços**"
   ]
  },
  {
   "cell_type": "code",
   "execution_count": 14,
   "metadata": {},
   "outputs": [
    {
     "data": {
      "text/html": [
       "<div>\n",
       "<style scoped>\n",
       "    .dataframe tbody tr th:only-of-type {\n",
       "        vertical-align: middle;\n",
       "    }\n",
       "\n",
       "    .dataframe tbody tr th {\n",
       "        vertical-align: top;\n",
       "    }\n",
       "\n",
       "    .dataframe thead th {\n",
       "        text-align: right;\n",
       "    }\n",
       "</style>\n",
       "<table border=\"1\" class=\"dataframe\">\n",
       "  <thead>\n",
       "    <tr style=\"text-align: right;\">\n",
       "      <th></th>\n",
       "      <th>uf</th>\n",
       "      <th>municipio</th>\n",
       "      <th>logradouro</th>\n",
       "      <th>complemento</th>\n",
       "      <th>bairro</th>\n",
       "      <th>telefone</th>\n",
       "      <th>external_id</th>\n",
       "    </tr>\n",
       "  </thead>\n",
       "  <tbody>\n",
       "    <tr>\n",
       "      <th>0</th>\n",
       "      <td>SP</td>\n",
       "      <td>Presidente Prudente</td>\n",
       "      <td>Rodovia Raposo Tavares Km 572</td>\n",
       "      <td>Km 572 -</td>\n",
       "      <td>Limoeiro</td>\n",
       "      <td>18 3229 2000</td>\n",
       "      <td>2522</td>\n",
       "    </tr>\n",
       "    <tr>\n",
       "      <th>1</th>\n",
       "      <td>SP</td>\n",
       "      <td>Sao Paulo</td>\n",
       "      <td>Avenida Interlagos</td>\n",
       "      <td>1329 - Universidade Ibirapuera</td>\n",
       "      <td>Jardim Umuarama</td>\n",
       "      <td>1150911193</td>\n",
       "      <td>1072704</td>\n",
       "    </tr>\n",
       "    <tr>\n",
       "      <th>2</th>\n",
       "      <td>SC</td>\n",
       "      <td>Balneario Camboriu</td>\n",
       "      <td>Avenida do Estado</td>\n",
       "      <td>3847 -</td>\n",
       "      <td>Centro</td>\n",
       "      <td>(47)3264-6813</td>\n",
       "      <td>8327</td>\n",
       "    </tr>\n",
       "  </tbody>\n",
       "</table>\n",
       "</div>"
      ],
      "text/plain": [
       "   uf            municipio                     logradouro  \\\n",
       "0  SP  Presidente Prudente  Rodovia Raposo Tavares Km 572   \n",
       "1  SP            Sao Paulo             Avenida Interlagos   \n",
       "2  SC   Balneario Camboriu              Avenida do Estado   \n",
       "\n",
       "                      complemento           bairro       telefone external_id  \n",
       "0                        Km 572 -         Limoeiro   18 3229 2000        2522  \n",
       "1  1329 - Universidade Ibirapuera  Jardim Umuarama     1150911193     1072704  \n",
       "2                          3847 -           Centro  (47)3264-6813        8327  "
      ]
     },
     "execution_count": 14,
     "metadata": {},
     "output_type": "execute_result"
    }
   ],
   "source": [
    "enderecos.limit(3).toPandas()"
   ]
  },
  {
   "cell_type": "code",
   "execution_count": 8,
   "metadata": {},
   "outputs": [
    {
     "name": "stdout",
     "output_type": "stream",
     "text": [
      "[('uf', 'string'), ('municipio', 'string'), ('logradouro', 'string'), ('complemento', 'string'), ('bairro', 'string'), ('telefone', 'string'), ('external_id', 'string')]\n"
     ]
    }
   ],
   "source": [
    "print(enderecos.dtypes)"
   ]
  },
  {
   "cell_type": "code",
   "execution_count": 13,
   "metadata": {},
   "outputs": [
    {
     "name": "stdout",
     "output_type": "stream",
     "text": [
      "5062\n"
     ]
    }
   ],
   "source": [
    "print(enderecos.count())"
   ]
  },
  {
   "cell_type": "markdown",
   "metadata": {},
   "source": [
    "### Filtrando os dados"
   ]
  },
  {
   "cell_type": "code",
   "execution_count": 15,
   "metadata": {},
   "outputs": [],
   "source": [
    "cusos_prouni_filter = cursos_prouni.select(\"grau\",\"turno\",\"mensalidade\",\"curso_id\",\"curso_busca\")"
   ]
  },
  {
   "cell_type": "code",
   "execution_count": 16,
   "metadata": {},
   "outputs": [],
   "source": [
    "enderecos_filter = enderecos.where(col(\"uf\") == \"SP\")"
   ]
  },
  {
   "cell_type": "code",
   "execution_count": 18,
   "metadata": {},
   "outputs": [],
   "source": [
    "cursos = cursos_prouni.withColumn(\"curso_id\",cursos_prouni[\"curso_id\"].cast(IntegerType()))"
   ]
  },
  {
   "cell_type": "code",
   "execution_count": null,
   "metadata": {},
   "outputs": [],
   "source": []
  },
  {
   "cell_type": "code",
   "execution_count": null,
   "metadata": {},
   "outputs": [],
   "source": [
    "cursos"
   ]
  },
  {
   "cell_type": "markdown",
   "metadata": {},
   "source": [
    "### Referências:\n",
    "\n",
    "* [Spark - Anatomy of Spark Application](https://luminousmen.com/post/spark-anatomy-of-spark-application)\n",
    "* [Spark UI](https://spark.apache.org/docs/3.0.0-preview2/web-ui.html)\n",
    "* [Leitura de csv com o Spark](https://sparkbyexamples.com/spark/spark-read-csv-file-into-dataframe/)\n",
    "\n"
   ]
  },
  {
   "cell_type": "code",
   "execution_count": null,
   "metadata": {},
   "outputs": [],
   "source": []
  }
 ],
 "metadata": {
  "kernelspec": {
   "display_name": "Python 3",
   "language": "python",
   "name": "python3"
  },
  "language_info": {
   "codemirror_mode": {
    "name": "ipython",
    "version": 3
   },
   "file_extension": ".py",
   "mimetype": "text/x-python",
   "name": "python",
   "nbconvert_exporter": "python",
   "pygments_lexer": "ipython3",
   "version": "3.8.3"
  }
 },
 "nbformat": 4,
 "nbformat_minor": 4
}
