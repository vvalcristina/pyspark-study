{
 "cells": [
  {
   "cell_type": "markdown",
   "metadata": {},
   "source": [
    "### Exemplo Classico de Contagem de Palavras"
   ]
  },
  {
   "cell_type": "markdown",
   "metadata": {},
   "source": [
    "**Setup**"
   ]
  },
  {
   "cell_type": "code",
   "execution_count": 2,
   "metadata": {},
   "outputs": [],
   "source": [
    "from pyspark.sql.functions import *\n",
    "from pyspark.sql import SparkSession\n",
    "from pyspark.sql.types import IntegerType\n",
    "from pyspark.sql.window import Window"
   ]
  },
  {
   "cell_type": "code",
   "execution_count": 3,
   "metadata": {},
   "outputs": [],
   "source": [
    "#SparkSession\n",
    "spark = (SparkSession.builder \n",
    "        .master(\"local[*]\") \n",
    "        .appName(\"workshop_spark\")\n",
    "        .getOrCreate())"
   ]
  },
  {
   "cell_type": "code",
   "execution_count": 4,
   "metadata": {},
   "outputs": [
    {
     "data": {
      "text/html": [
       "\n",
       "            <div>\n",
       "                <p><b>SparkSession - in-memory</b></p>\n",
       "                \n",
       "        <div>\n",
       "            <p><b>SparkContext</b></p>\n",
       "\n",
       "            <p><a href=\"http://c57cf5f549e5:4040\">Spark UI</a></p>\n",
       "\n",
       "            <dl>\n",
       "              <dt>Version</dt>\n",
       "                <dd><code>v3.0.0</code></dd>\n",
       "              <dt>Master</dt>\n",
       "                <dd><code>local[*]</code></dd>\n",
       "              <dt>AppName</dt>\n",
       "                <dd><code>workshop_spark</code></dd>\n",
       "            </dl>\n",
       "        </div>\n",
       "        \n",
       "            </div>\n",
       "        "
      ],
      "text/plain": [
       "<pyspark.sql.session.SparkSession at 0x7ff03c3fde50>"
      ]
     },
     "execution_count": 4,
     "metadata": {},
     "output_type": "execute_result"
    }
   ],
   "source": [
    "spark"
   ]
  },
  {
   "cell_type": "code",
   "execution_count": 5,
   "metadata": {},
   "outputs": [],
   "source": [
    "#SparkContext - sc é o nome padrão\n",
    "sc = spark.sparkContext"
   ]
  },
  {
   "cell_type": "code",
   "execution_count": 6,
   "metadata": {},
   "outputs": [
    {
     "name": "stdout",
     "output_type": "stream",
     "text": [
      "[' “No entanto, para dizer a verdade, hoje em dia a razão e o amor quase não andam juntos. É pena que alguns vizinhos honestos não se esforcem para torná-los amigos. Como vê, também posso ser espirituoso se houver ocasião.” (De Sonho de uma Noite de Verão)', '', ' “A vida é uma simples sombra que passa (...); é uma história contada por um idiota, cheia de ruído e de furor e que nada significa” (De Macbeth)']\n"
     ]
    }
   ],
   "source": [
    "#Criando RDD com o arquivo de texto\n",
    "pathRDD = sc.textFile(\"../data/shakespeare.txt\")\n",
    "print(pathRDD.collect())"
   ]
  },
  {
   "cell_type": "code",
   "execution_count": 7,
   "metadata": {},
   "outputs": [
    {
     "name": "stdout",
     "output_type": "stream",
     "text": [
      "[' “No entanto, para dizer a verdade, hoje em dia a razão e o amor quase não andam juntos. É pena que alguns vizinhos honestos não se esforcem para torná-los amigos. Como vê, também posso ser espirituoso se houver ocasião.” (De Sonho de uma Noite de Verão)', ' “A vida é uma simples sombra que passa (...); é uma história contada por um idiota, cheia de ruído e de furor e que nada significa” (De Macbeth)']\n"
     ]
    }
   ],
   "source": [
    "#Eliminando as linhas vazias do arquivo\n",
    "pathRDDFilter = pathRDD.filter(lambda x: len(x)>0)\n",
    "print(pathRDDFilter.collect())"
   ]
  },
  {
   "cell_type": "code",
   "execution_count": 8,
   "metadata": {},
   "outputs": [],
   "source": [
    "#Dividindo o conteúdo com base no espaço entre as palavras\n",
    "#Pegamos apenas as linhas com conteúdo\n",
    "wordsRDD = pathRDDFilter.flatMap(lambda x: x.split(\" \"))"
   ]
  },
  {
   "cell_type": "code",
   "execution_count": 9,
   "metadata": {},
   "outputs": [
    {
     "name": "stdout",
     "output_type": "stream",
     "text": [
      "['', '“No', 'entanto,', 'para', 'dizer', 'a', 'verdade,', 'hoje', 'em', 'dia', 'a', 'razão', 'e', 'o', 'amor', 'quase', 'não', 'andam', 'juntos.', 'É', 'pena', 'que', 'alguns', 'vizinhos', 'honestos', 'não', 'se', 'esforcem', 'para', 'torná-los', 'amigos.', 'Como', 'vê,', 'também', 'posso', 'ser', 'espirituoso', 'se', 'houver', 'ocasião.”', '(De', 'Sonho', 'de', 'uma', 'Noite', 'de', 'Verão)', '', '“A', 'vida', 'é', 'uma', 'simples', 'sombra', 'que', 'passa', '(...);', 'é', 'uma', 'história', 'contada', 'por', 'um', 'idiota,', 'cheia', 'de', 'ruído', 'e', 'de', 'furor', 'e', 'que', 'nada', 'significa”', '(De', 'Macbeth)']\n"
     ]
    }
   ],
   "source": [
    "print(wordsRDD.collect())"
   ]
  },
  {
   "cell_type": "code",
   "execution_count": 10,
   "metadata": {},
   "outputs": [],
   "source": [
    "#Contagem das palavras - Map\n",
    "pairsRDD = wordsRDD.map(lambda x: (x, 1))"
   ]
  },
  {
   "cell_type": "code",
   "execution_count": 11,
   "metadata": {},
   "outputs": [
    {
     "name": "stdout",
     "output_type": "stream",
     "text": [
      "[('', 1), ('“No', 1), ('entanto,', 1), ('para', 1), ('dizer', 1), ('a', 1), ('verdade,', 1), ('hoje', 1), ('em', 1), ('dia', 1), ('a', 1), ('razão', 1), ('e', 1), ('o', 1), ('amor', 1), ('quase', 1), ('não', 1), ('andam', 1), ('juntos.', 1), ('É', 1), ('pena', 1), ('que', 1), ('alguns', 1), ('vizinhos', 1), ('honestos', 1), ('não', 1), ('se', 1), ('esforcem', 1), ('para', 1), ('torná-los', 1), ('amigos.', 1), ('Como', 1), ('vê,', 1), ('também', 1), ('posso', 1), ('ser', 1), ('espirituoso', 1), ('se', 1), ('houver', 1), ('ocasião.”', 1), ('(De', 1), ('Sonho', 1), ('de', 1), ('uma', 1), ('Noite', 1), ('de', 1), ('Verão)', 1), ('', 1), ('“A', 1), ('vida', 1), ('é', 1), ('uma', 1), ('simples', 1), ('sombra', 1), ('que', 1), ('passa', 1), ('(...);', 1), ('é', 1), ('uma', 1), ('história', 1), ('contada', 1), ('por', 1), ('um', 1), ('idiota,', 1), ('cheia', 1), ('de', 1), ('ruído', 1), ('e', 1), ('de', 1), ('furor', 1), ('e', 1), ('que', 1), ('nada', 1), ('significa”', 1), ('(De', 1), ('Macbeth)', 1)]\n"
     ]
    }
   ],
   "source": [
    "print(pairsRDD.collect())"
   ]
  },
  {
   "cell_type": "code",
   "execution_count": 13,
   "metadata": {},
   "outputs": [
    {
     "name": "stdout",
     "output_type": "stream",
     "text": [
      "[('', 2), ('para', 2), ('verdade,', 1), ('hoje', 1), ('em', 1), ('amor', 1), ('É', 1), ('que', 3), ('alguns', 1), ('torná-los', 1), ('amigos.', 1), ('Como', 1), ('vê,', 1), ('Sonho', 1), ('uma', 3), ('“A', 1), ('vida', 1), ('sombra', 1), ('passa', 1), ('(...);', 1), ('história', 1), ('contada', 1), ('um', 1), ('furor', 1), ('nada', 1), ('significa”', 1), ('Macbeth)', 1), ('“No', 1), ('entanto,', 1), ('dizer', 1), ('a', 2), ('dia', 1), ('razão', 1), ('e', 3), ('o', 1), ('quase', 1), ('não', 2), ('andam', 1), ('juntos.', 1), ('pena', 1), ('vizinhos', 1), ('honestos', 1), ('se', 2), ('esforcem', 1), ('também', 1), ('posso', 1), ('ser', 1), ('espirituoso', 1), ('houver', 1), ('ocasião.”', 1), ('(De', 2), ('de', 4), ('Noite', 1), ('Verão)', 1), ('é', 2), ('simples', 1), ('por', 1), ('idiota,', 1), ('cheia', 1), ('ruído', 1)]\n"
     ]
    }
   ],
   "source": [
    "#Contagem final das palavras do arquivo - Reduce\n",
    "frequenciesRDD = pairsRDD.reduceByKey(lambda x, y:x + y)\n",
    "print(frequenciesRDD.collect())"
   ]
  },
  {
   "cell_type": "code",
   "execution_count": null,
   "metadata": {},
   "outputs": [],
   "source": []
  }
 ],
 "metadata": {
  "kernelspec": {
   "display_name": "Python 3",
   "language": "python",
   "name": "python3"
  },
  "language_info": {
   "codemirror_mode": {
    "name": "ipython",
    "version": 3
   },
   "file_extension": ".py",
   "mimetype": "text/x-python",
   "name": "python",
   "nbconvert_exporter": "python",
   "pygments_lexer": "ipython3",
   "version": "3.8.3"
  }
 },
 "nbformat": 4,
 "nbformat_minor": 4
}
